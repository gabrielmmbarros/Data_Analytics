{
 "cells": [
  {
   "cell_type": "markdown",
   "metadata": {},
   "source": [
    "# Treinamento de entrada e saída de dados utilizando Pandas.\n",
    "<p>Prática da biblioteca Pandas em um projeto onde:\n",
    "    \n",
    "-Consumo dados de uma API disponibilizada pelo IBGE para obter nomes de pessoas e fazer uma simulação como se fossem alunos de uma plataforma;\n",
    "    \n",
    "-Leio uma tabela de cursos, de um site fictício, para atribuir aos alunos os cursos aos quais eles estão matriculados;\n",
    "    \n",
    "-Crio e manipulo um Banco de Dados a partir das Data Frames gerados;\n",
    "    \n",
    "-Exporto as tabelas geradas em diversos formatos de arquivos;\n",
    "</p>"
   ]
  },
  {
   "cell_type": "code",
   "execution_count": 1,
   "metadata": {},
   "outputs": [],
   "source": [
    "import pandas as pd\n",
    "import numpy as np\n",
    "import seaborn as sns"
   ]
  },
  {
   "cell_type": "markdown",
   "metadata": {},
   "source": [
    "### API IBGE\n",
    "<p>Guia de Api's</p>\n",
    "<a>https://servicodados.ibge.gov.br/api/docs/censos/nomes?versao=2</a>\n",
    "\n",
    "<p>\n",
    "    <b>Ranking por frequência</b> - obtém o ranking dos nomes segundo a frequência de nascimentos por década: </p>\n",
    "<a>https://servicodados.ibge.gov.br/api/v1/censos/nomes/ranking</a>"
   ]
  },
  {
   "cell_type": "markdown",
   "metadata": {},
   "source": [
    "<p>Lendo o json extraído da Api, filtrando por quantidade (200 nomes) e sexo</p>"
   ]
  },
  {
   "cell_type": "code",
   "execution_count": 2,
   "metadata": {},
   "outputs": [],
   "source": [
    "nomes_f = pd.read_json(\"https://servicodados.ibge.gov.br/api/v1/censos/nomes/ranking?qtd=200&sexo=F\")\n",
    "nomes_m = pd.read_json(\"https://servicodados.ibge.gov.br/api/v1/censos/nomes/ranking?qtd=200&sexo=M\")"
   ]
  },
  {
   "cell_type": "markdown",
   "metadata": {},
   "source": [
    "## Estruturando os nomes"
   ]
  },
  {
   "cell_type": "code",
   "execution_count": 3,
   "metadata": {},
   "outputs": [
    {
     "data": {
      "text/html": [
       "<div>\n",
       "<style scoped>\n",
       "    .dataframe tbody tr th:only-of-type {\n",
       "        vertical-align: middle;\n",
       "    }\n",
       "\n",
       "    .dataframe tbody tr th {\n",
       "        vertical-align: top;\n",
       "    }\n",
       "\n",
       "    .dataframe thead th {\n",
       "        text-align: right;\n",
       "    }\n",
       "</style>\n",
       "<table border=\"1\" class=\"dataframe\">\n",
       "  <thead>\n",
       "    <tr style=\"text-align: right;\">\n",
       "      <th></th>\n",
       "      <th>nome</th>\n",
       "      <th>regiao</th>\n",
       "      <th>freq</th>\n",
       "      <th>rank</th>\n",
       "      <th>sexo</th>\n",
       "    </tr>\n",
       "  </thead>\n",
       "  <tbody>\n",
       "    <tr>\n",
       "      <th>0</th>\n",
       "      <td>MARIA</td>\n",
       "      <td>0</td>\n",
       "      <td>11694738</td>\n",
       "      <td>1</td>\n",
       "      <td>F</td>\n",
       "    </tr>\n",
       "    <tr>\n",
       "      <th>1</th>\n",
       "      <td>ANA</td>\n",
       "      <td>0</td>\n",
       "      <td>3079729</td>\n",
       "      <td>2</td>\n",
       "      <td>F</td>\n",
       "    </tr>\n",
       "    <tr>\n",
       "      <th>2</th>\n",
       "      <td>FRANCISCA</td>\n",
       "      <td>0</td>\n",
       "      <td>721637</td>\n",
       "      <td>3</td>\n",
       "      <td>F</td>\n",
       "    </tr>\n",
       "    <tr>\n",
       "      <th>3</th>\n",
       "      <td>ANTONIA</td>\n",
       "      <td>0</td>\n",
       "      <td>588783</td>\n",
       "      <td>4</td>\n",
       "      <td>F</td>\n",
       "    </tr>\n",
       "    <tr>\n",
       "      <th>4</th>\n",
       "      <td>ADRIANA</td>\n",
       "      <td>0</td>\n",
       "      <td>565621</td>\n",
       "      <td>5</td>\n",
       "      <td>F</td>\n",
       "    </tr>\n",
       "  </tbody>\n",
       "</table>\n",
       "</div>"
      ],
      "text/plain": [
       "        nome  regiao      freq  rank sexo\n",
       "0      MARIA       0  11694738     1    F\n",
       "1        ANA       0   3079729     2    F\n",
       "2  FRANCISCA       0    721637     3    F\n",
       "3    ANTONIA       0    588783     4    F\n",
       "4    ADRIANA       0    565621     5    F"
      ]
     },
     "execution_count": 3,
     "metadata": {},
     "output_type": "execute_result"
    }
   ],
   "source": [
    "nomes_f.head()"
   ]
  },
  {
   "cell_type": "markdown",
   "metadata": {},
   "source": [
    "Colocando as duas variáveis em uma única lista"
   ]
  },
  {
   "cell_type": "code",
   "execution_count": 4,
   "metadata": {},
   "outputs": [
    {
     "data": {
      "text/plain": [
       "[          nome  regiao      freq  rank sexo\n",
       " 0        MARIA       0  11694738     1    F\n",
       " 1          ANA       0   3079729     2    F\n",
       " 2    FRANCISCA       0    721637     3    F\n",
       " 3      ANTONIA       0    588783     4    F\n",
       " 4      ADRIANA       0    565621     5    F\n",
       " ..         ...     ...       ...   ...  ...\n",
       " 195     ROSANE       0     82203   196    F\n",
       " 196    IVONETE       0     81878   197    F\n",
       " 197    LUCIANE       0     81230   198    F\n",
       " 198    ISADORA       0     81100   199    F\n",
       " 199      NILZA       0     80128   200    F\n",
       " \n",
       " [200 rows x 5 columns],\n",
       "           nome  regiao     freq  rank sexo\n",
       " 0         JOSE       0  5732508     1    M\n",
       " 1         JOAO       0  2971935     2    M\n",
       " 2      ANTONIO       0  2567494     3    M\n",
       " 3    FRANCISCO       0  1765197     4    M\n",
       " 4       CARLOS       0  1483121     5    M\n",
       " ..         ...     ...      ...   ...  ...\n",
       " 195     WALTER       0    67207   196    M\n",
       " 196    ARLINDO       0    66669   197    M\n",
       " 197    MICHAEL       0    65736   198    M\n",
       " 198     ALVARO       0    65444   199    M\n",
       " 199    GEOVANE       0    65435   200    M\n",
       " \n",
       " [200 rows x 5 columns]]"
      ]
     },
     "execution_count": 4,
     "metadata": {},
     "output_type": "execute_result"
    }
   ],
   "source": [
    "frames = [nomes_f, nomes_m]\n",
    "frames"
   ]
  },
  {
   "cell_type": "markdown",
   "metadata": {},
   "source": [
    "<p>Da Api são trazidos 5 índices: nome, regiao, frequencia rank e sexo.\n",
    "    \n",
    "   Concateno as duas variáveis, que estão armazenadas dentro da variável frames, seleciono somente a coluna 'nome' e por fim transformo em um Data Frame. </p>"
   ]
  },
  {
   "cell_type": "code",
   "execution_count": 5,
   "metadata": {},
   "outputs": [
    {
     "data": {
      "text/html": [
       "<div>\n",
       "<style scoped>\n",
       "    .dataframe tbody tr th:only-of-type {\n",
       "        vertical-align: middle;\n",
       "    }\n",
       "\n",
       "    .dataframe tbody tr th {\n",
       "        vertical-align: top;\n",
       "    }\n",
       "\n",
       "    .dataframe thead th {\n",
       "        text-align: right;\n",
       "    }\n",
       "</style>\n",
       "<table border=\"1\" class=\"dataframe\">\n",
       "  <thead>\n",
       "    <tr style=\"text-align: right;\">\n",
       "      <th></th>\n",
       "      <th>nome</th>\n",
       "    </tr>\n",
       "  </thead>\n",
       "  <tbody>\n",
       "    <tr>\n",
       "      <th>0</th>\n",
       "      <td>MARIA</td>\n",
       "    </tr>\n",
       "    <tr>\n",
       "      <th>1</th>\n",
       "      <td>ANA</td>\n",
       "    </tr>\n",
       "    <tr>\n",
       "      <th>2</th>\n",
       "      <td>FRANCISCA</td>\n",
       "    </tr>\n",
       "    <tr>\n",
       "      <th>3</th>\n",
       "      <td>ANTONIA</td>\n",
       "    </tr>\n",
       "    <tr>\n",
       "      <th>4</th>\n",
       "      <td>ADRIANA</td>\n",
       "    </tr>\n",
       "    <tr>\n",
       "      <th>...</th>\n",
       "      <td>...</td>\n",
       "    </tr>\n",
       "    <tr>\n",
       "      <th>195</th>\n",
       "      <td>WALTER</td>\n",
       "    </tr>\n",
       "    <tr>\n",
       "      <th>196</th>\n",
       "      <td>ARLINDO</td>\n",
       "    </tr>\n",
       "    <tr>\n",
       "      <th>197</th>\n",
       "      <td>MICHAEL</td>\n",
       "    </tr>\n",
       "    <tr>\n",
       "      <th>198</th>\n",
       "      <td>ALVARO</td>\n",
       "    </tr>\n",
       "    <tr>\n",
       "      <th>199</th>\n",
       "      <td>GEOVANE</td>\n",
       "    </tr>\n",
       "  </tbody>\n",
       "</table>\n",
       "<p>400 rows × 1 columns</p>\n",
       "</div>"
      ],
      "text/plain": [
       "          nome\n",
       "0        MARIA\n",
       "1          ANA\n",
       "2    FRANCISCA\n",
       "3      ANTONIA\n",
       "4      ADRIANA\n",
       "..         ...\n",
       "195     WALTER\n",
       "196    ARLINDO\n",
       "197    MICHAEL\n",
       "198     ALVARO\n",
       "199    GEOVANE\n",
       "\n",
       "[400 rows x 1 columns]"
      ]
     },
     "execution_count": 5,
     "metadata": {},
     "output_type": "execute_result"
    }
   ],
   "source": [
    "nomes = pd.concat(frames)['nome'].to_frame()\n",
    "nomes"
   ]
  },
  {
   "cell_type": "markdown",
   "metadata": {},
   "source": [
    "## Incluindo ID dos alunos"
   ]
  },
  {
   "cell_type": "markdown",
   "metadata": {},
   "source": [
    "Quantidade de alunos, pelo número de registros da variável nomes"
   ]
  },
  {
   "cell_type": "code",
   "execution_count": 6,
   "metadata": {},
   "outputs": [
    {
     "data": {
      "text/plain": [
       "400"
      ]
     },
     "execution_count": 6,
     "metadata": {},
     "output_type": "execute_result"
    }
   ],
   "source": [
    "total_alunos = len(nomes)\n",
    "total_alunos"
   ]
  },
  {
   "cell_type": "markdown",
   "metadata": {},
   "source": [
    "Criando nova coluna 'id_aluno' gerando números aleatórios para cada aluno"
   ]
  },
  {
   "cell_type": "code",
   "execution_count": 7,
   "metadata": {},
   "outputs": [
    {
     "data": {
      "text/html": [
       "<div>\n",
       "<style scoped>\n",
       "    .dataframe tbody tr th:only-of-type {\n",
       "        vertical-align: middle;\n",
       "    }\n",
       "\n",
       "    .dataframe tbody tr th {\n",
       "        vertical-align: top;\n",
       "    }\n",
       "\n",
       "    .dataframe thead th {\n",
       "        text-align: right;\n",
       "    }\n",
       "</style>\n",
       "<table border=\"1\" class=\"dataframe\">\n",
       "  <thead>\n",
       "    <tr style=\"text-align: right;\">\n",
       "      <th></th>\n",
       "      <th>nome</th>\n",
       "      <th>id_aluno</th>\n",
       "    </tr>\n",
       "  </thead>\n",
       "  <tbody>\n",
       "    <tr>\n",
       "      <th>0</th>\n",
       "      <td>MARIA</td>\n",
       "      <td>77</td>\n",
       "    </tr>\n",
       "    <tr>\n",
       "      <th>1</th>\n",
       "      <td>ANA</td>\n",
       "      <td>371</td>\n",
       "    </tr>\n",
       "    <tr>\n",
       "      <th>2</th>\n",
       "      <td>FRANCISCA</td>\n",
       "      <td>64</td>\n",
       "    </tr>\n",
       "    <tr>\n",
       "      <th>3</th>\n",
       "      <td>ANTONIA</td>\n",
       "      <td>375</td>\n",
       "    </tr>\n",
       "    <tr>\n",
       "      <th>4</th>\n",
       "      <td>ADRIANA</td>\n",
       "      <td>329</td>\n",
       "    </tr>\n",
       "    <tr>\n",
       "      <th>...</th>\n",
       "      <td>...</td>\n",
       "      <td>...</td>\n",
       "    </tr>\n",
       "    <tr>\n",
       "      <th>195</th>\n",
       "      <td>WALTER</td>\n",
       "      <td>198</td>\n",
       "    </tr>\n",
       "    <tr>\n",
       "      <th>196</th>\n",
       "      <td>ARLINDO</td>\n",
       "      <td>206</td>\n",
       "    </tr>\n",
       "    <tr>\n",
       "      <th>197</th>\n",
       "      <td>MICHAEL</td>\n",
       "      <td>117</td>\n",
       "    </tr>\n",
       "    <tr>\n",
       "      <th>198</th>\n",
       "      <td>ALVARO</td>\n",
       "      <td>213</td>\n",
       "    </tr>\n",
       "    <tr>\n",
       "      <th>199</th>\n",
       "      <td>GEOVANE</td>\n",
       "      <td>309</td>\n",
       "    </tr>\n",
       "  </tbody>\n",
       "</table>\n",
       "<p>400 rows × 2 columns</p>\n",
       "</div>"
      ],
      "text/plain": [
       "          nome  id_aluno\n",
       "0        MARIA        77\n",
       "1          ANA       371\n",
       "2    FRANCISCA        64\n",
       "3      ANTONIA       375\n",
       "4      ADRIANA       329\n",
       "..         ...       ...\n",
       "195     WALTER       198\n",
       "196    ARLINDO       206\n",
       "197    MICHAEL       117\n",
       "198     ALVARO       213\n",
       "199    GEOVANE       309\n",
       "\n",
       "[400 rows x 2 columns]"
      ]
     },
     "execution_count": 7,
     "metadata": {},
     "output_type": "execute_result"
    }
   ],
   "source": [
    "nomes['id_aluno'] = np.random.permutation(total_alunos) + 1\n",
    "nomes"
   ]
  },
  {
   "cell_type": "markdown",
   "metadata": {},
   "source": [
    "Como cada aluno precisa de um email cadastrado da plataforma, crio uma lista com 3 domínios de email e uma coluna correspondente.\n",
    "\n",
    "Em seguida, os domínios são distribuídos aleatoriamente, de acordo com a quantidade de alunos (400 vezes)."
   ]
  },
  {
   "cell_type": "code",
   "execution_count": 8,
   "metadata": {},
   "outputs": [],
   "source": [
    "dominios = ['@aluno-platX.com.br', '@aluno-platY.com.br', '@aluno-platZ.com.br']\n",
    "nomes['dominio'] = np.random.choice(dominios, total_alunos)"
   ]
  },
  {
   "cell_type": "code",
   "execution_count": 9,
   "metadata": {},
   "outputs": [
    {
     "data": {
      "text/html": [
       "<div>\n",
       "<style scoped>\n",
       "    .dataframe tbody tr th:only-of-type {\n",
       "        vertical-align: middle;\n",
       "    }\n",
       "\n",
       "    .dataframe tbody tr th {\n",
       "        vertical-align: top;\n",
       "    }\n",
       "\n",
       "    .dataframe thead th {\n",
       "        text-align: right;\n",
       "    }\n",
       "</style>\n",
       "<table border=\"1\" class=\"dataframe\">\n",
       "  <thead>\n",
       "    <tr style=\"text-align: right;\">\n",
       "      <th></th>\n",
       "      <th>nome</th>\n",
       "      <th>id_aluno</th>\n",
       "      <th>dominio</th>\n",
       "    </tr>\n",
       "  </thead>\n",
       "  <tbody>\n",
       "    <tr>\n",
       "      <th>0</th>\n",
       "      <td>MARIA</td>\n",
       "      <td>77</td>\n",
       "      <td>@aluno-platY.com.br</td>\n",
       "    </tr>\n",
       "    <tr>\n",
       "      <th>1</th>\n",
       "      <td>ANA</td>\n",
       "      <td>371</td>\n",
       "      <td>@aluno-platZ.com.br</td>\n",
       "    </tr>\n",
       "    <tr>\n",
       "      <th>2</th>\n",
       "      <td>FRANCISCA</td>\n",
       "      <td>64</td>\n",
       "      <td>@aluno-platZ.com.br</td>\n",
       "    </tr>\n",
       "    <tr>\n",
       "      <th>3</th>\n",
       "      <td>ANTONIA</td>\n",
       "      <td>375</td>\n",
       "      <td>@aluno-platZ.com.br</td>\n",
       "    </tr>\n",
       "    <tr>\n",
       "      <th>4</th>\n",
       "      <td>ADRIANA</td>\n",
       "      <td>329</td>\n",
       "      <td>@aluno-platX.com.br</td>\n",
       "    </tr>\n",
       "    <tr>\n",
       "      <th>5</th>\n",
       "      <td>JULIANA</td>\n",
       "      <td>214</td>\n",
       "      <td>@aluno-platY.com.br</td>\n",
       "    </tr>\n",
       "    <tr>\n",
       "      <th>6</th>\n",
       "      <td>MARCIA</td>\n",
       "      <td>358</td>\n",
       "      <td>@aluno-platY.com.br</td>\n",
       "    </tr>\n",
       "    <tr>\n",
       "      <th>7</th>\n",
       "      <td>FERNANDA</td>\n",
       "      <td>330</td>\n",
       "      <td>@aluno-platZ.com.br</td>\n",
       "    </tr>\n",
       "    <tr>\n",
       "      <th>8</th>\n",
       "      <td>PATRICIA</td>\n",
       "      <td>363</td>\n",
       "      <td>@aluno-platZ.com.br</td>\n",
       "    </tr>\n",
       "    <tr>\n",
       "      <th>9</th>\n",
       "      <td>ALINE</td>\n",
       "      <td>243</td>\n",
       "      <td>@aluno-platY.com.br</td>\n",
       "    </tr>\n",
       "  </tbody>\n",
       "</table>\n",
       "</div>"
      ],
      "text/plain": [
       "        nome  id_aluno              dominio\n",
       "0      MARIA        77  @aluno-platY.com.br\n",
       "1        ANA       371  @aluno-platZ.com.br\n",
       "2  FRANCISCA        64  @aluno-platZ.com.br\n",
       "3    ANTONIA       375  @aluno-platZ.com.br\n",
       "4    ADRIANA       329  @aluno-platX.com.br\n",
       "5    JULIANA       214  @aluno-platY.com.br\n",
       "6     MARCIA       358  @aluno-platY.com.br\n",
       "7   FERNANDA       330  @aluno-platZ.com.br\n",
       "8   PATRICIA       363  @aluno-platZ.com.br\n",
       "9      ALINE       243  @aluno-platY.com.br"
      ]
     },
     "execution_count": 9,
     "metadata": {},
     "output_type": "execute_result"
    }
   ],
   "source": [
    "nomes.head(10)"
   ]
  },
  {
   "cell_type": "markdown",
   "metadata": {},
   "source": [
    "Cria-se uma nova coluna 'email', concatenando os nomes com os dominios, depois transformando em uma string minúscula"
   ]
  },
  {
   "cell_type": "code",
   "execution_count": 10,
   "metadata": {},
   "outputs": [],
   "source": [
    "nomes['email'] = nomes.nome.str.cat(nomes.dominio).str.lower()"
   ]
  },
  {
   "cell_type": "code",
   "execution_count": 11,
   "metadata": {},
   "outputs": [
    {
     "data": {
      "text/html": [
       "<div>\n",
       "<style scoped>\n",
       "    .dataframe tbody tr th:only-of-type {\n",
       "        vertical-align: middle;\n",
       "    }\n",
       "\n",
       "    .dataframe tbody tr th {\n",
       "        vertical-align: top;\n",
       "    }\n",
       "\n",
       "    .dataframe thead th {\n",
       "        text-align: right;\n",
       "    }\n",
       "</style>\n",
       "<table border=\"1\" class=\"dataframe\">\n",
       "  <thead>\n",
       "    <tr style=\"text-align: right;\">\n",
       "      <th></th>\n",
       "      <th>nome</th>\n",
       "      <th>id_aluno</th>\n",
       "      <th>dominio</th>\n",
       "      <th>email</th>\n",
       "    </tr>\n",
       "  </thead>\n",
       "  <tbody>\n",
       "    <tr>\n",
       "      <th>166</th>\n",
       "      <td>MICHEL</td>\n",
       "      <td>156</td>\n",
       "      <td>@aluno-platY.com.br</td>\n",
       "      <td>michel@aluno-platy.com.br</td>\n",
       "    </tr>\n",
       "    <tr>\n",
       "      <th>189</th>\n",
       "      <td>WESLEI</td>\n",
       "      <td>1</td>\n",
       "      <td>@aluno-platZ.com.br</td>\n",
       "      <td>weslei@aluno-platz.com.br</td>\n",
       "    </tr>\n",
       "    <tr>\n",
       "      <th>75</th>\n",
       "      <td>NELSON</td>\n",
       "      <td>210</td>\n",
       "      <td>@aluno-platX.com.br</td>\n",
       "      <td>nelson@aluno-platx.com.br</td>\n",
       "    </tr>\n",
       "    <tr>\n",
       "      <th>114</th>\n",
       "      <td>ARTHUR</td>\n",
       "      <td>130</td>\n",
       "      <td>@aluno-platZ.com.br</td>\n",
       "      <td>arthur@aluno-platz.com.br</td>\n",
       "    </tr>\n",
       "    <tr>\n",
       "      <th>147</th>\n",
       "      <td>LILIAN</td>\n",
       "      <td>382</td>\n",
       "      <td>@aluno-platZ.com.br</td>\n",
       "      <td>lilian@aluno-platz.com.br</td>\n",
       "    </tr>\n",
       "  </tbody>\n",
       "</table>\n",
       "</div>"
      ],
      "text/plain": [
       "       nome  id_aluno              dominio                      email\n",
       "166  MICHEL       156  @aluno-platY.com.br  michel@aluno-platy.com.br\n",
       "189  WESLEI         1  @aluno-platZ.com.br  weslei@aluno-platz.com.br\n",
       "75   NELSON       210  @aluno-platX.com.br  nelson@aluno-platx.com.br\n",
       "114  ARTHUR       130  @aluno-platZ.com.br  arthur@aluno-platz.com.br\n",
       "147  LILIAN       382  @aluno-platZ.com.br  lilian@aluno-platz.com.br"
      ]
     },
     "execution_count": 11,
     "metadata": {},
     "output_type": "execute_result"
    }
   ],
   "source": [
    "nomes.sample(5)   #sample() retorna uma quantidade de registros aleatórios"
   ]
  },
  {
   "cell_type": "markdown",
   "metadata": {},
   "source": [
    "Agora que temos nossa coluna email, a coluna dominio torna-se redundante e pode ser excuída."
   ]
  },
  {
   "cell_type": "code",
   "execution_count": 12,
   "metadata": {},
   "outputs": [
    {
     "data": {
      "text/html": [
       "<div>\n",
       "<style scoped>\n",
       "    .dataframe tbody tr th:only-of-type {\n",
       "        vertical-align: middle;\n",
       "    }\n",
       "\n",
       "    .dataframe tbody tr th {\n",
       "        vertical-align: top;\n",
       "    }\n",
       "\n",
       "    .dataframe thead th {\n",
       "        text-align: right;\n",
       "    }\n",
       "</style>\n",
       "<table border=\"1\" class=\"dataframe\">\n",
       "  <thead>\n",
       "    <tr style=\"text-align: right;\">\n",
       "      <th></th>\n",
       "      <th>nome</th>\n",
       "      <th>id_aluno</th>\n",
       "      <th>email</th>\n",
       "    </tr>\n",
       "  </thead>\n",
       "  <tbody>\n",
       "    <tr>\n",
       "      <th>0</th>\n",
       "      <td>MARIA</td>\n",
       "      <td>77</td>\n",
       "      <td>maria@aluno-platy.com.br</td>\n",
       "    </tr>\n",
       "    <tr>\n",
       "      <th>1</th>\n",
       "      <td>ANA</td>\n",
       "      <td>371</td>\n",
       "      <td>ana@aluno-platz.com.br</td>\n",
       "    </tr>\n",
       "    <tr>\n",
       "      <th>2</th>\n",
       "      <td>FRANCISCA</td>\n",
       "      <td>64</td>\n",
       "      <td>francisca@aluno-platz.com.br</td>\n",
       "    </tr>\n",
       "    <tr>\n",
       "      <th>3</th>\n",
       "      <td>ANTONIA</td>\n",
       "      <td>375</td>\n",
       "      <td>antonia@aluno-platz.com.br</td>\n",
       "    </tr>\n",
       "    <tr>\n",
       "      <th>4</th>\n",
       "      <td>ADRIANA</td>\n",
       "      <td>329</td>\n",
       "      <td>adriana@aluno-platx.com.br</td>\n",
       "    </tr>\n",
       "  </tbody>\n",
       "</table>\n",
       "</div>"
      ],
      "text/plain": [
       "        nome  id_aluno                         email\n",
       "0      MARIA        77      maria@aluno-platy.com.br\n",
       "1        ANA       371        ana@aluno-platz.com.br\n",
       "2  FRANCISCA        64  francisca@aluno-platz.com.br\n",
       "3    ANTONIA       375    antonia@aluno-platz.com.br\n",
       "4    ADRIANA       329    adriana@aluno-platx.com.br"
      ]
     },
     "execution_count": 12,
     "metadata": {},
     "output_type": "execute_result"
    }
   ],
   "source": [
    "nomes = nomes.drop(columns='dominio')\n",
    "nomes.head()"
   ]
  },
  {
   "cell_type": "markdown",
   "metadata": {},
   "source": [
    "## Criando a tabela Cursos"
   ]
  },
  {
   "cell_type": "markdown",
   "metadata": {},
   "source": [
    "Importando bibliotecas para trabalhar com html"
   ]
  },
  {
   "cell_type": "code",
   "execution_count": 13,
   "metadata": {},
   "outputs": [
    {
     "name": "stdout",
     "output_type": "stream",
     "text": [
      "Requirement already satisfied: html5lib in /home/gabriel/.local/lib/python3.8/site-packages (1.1)\n",
      "Requirement already satisfied: six>=1.9 in /usr/lib/python3/dist-packages (from html5lib) (1.14.0)\n",
      "Requirement already satisfied: webencodings in /home/gabriel/.local/lib/python3.8/site-packages (from html5lib) (0.5.1)\n",
      "Requirement already satisfied: lxml in /home/gabriel/.local/lib/python3.8/site-packages (4.5.2)\n"
     ]
    }
   ],
   "source": [
    "!pip3 install html5lib\n",
    "!pip3 install lxml"
   ]
  },
  {
   "cell_type": "code",
   "execution_count": 14,
   "metadata": {},
   "outputs": [],
   "source": [
    "import html5lib"
   ]
  },
  {
   "cell_type": "markdown",
   "metadata": {},
   "source": [
    "Lendo tabela de cursos de um site fictício "
   ]
  },
  {
   "cell_type": "code",
   "execution_count": 15,
   "metadata": {},
   "outputs": [
    {
     "data": {
      "text/plain": [
       "[                          Nome do curso\n",
       " 0                 Lógica de programação\n",
       " 1                         Java para Web\n",
       " 2                           C# para Web\n",
       " 3                         Ruby on Rails\n",
       " 4                      Cursos de Python\n",
       " 5                         PHP com MySql\n",
       " 6                         .NET para web\n",
       " 7            Novas integrações com Java\n",
       " 8                          TDD com Java\n",
       " 9                   Código limpo com C#\n",
       " 10  Preparatório para certificação Java\n",
       " 11                      Hardware básico\n",
       " 12                Persistência com .NET\n",
       " 13                  Desenvolvendo jogos\n",
       " 14                     Análise de dados\n",
       " 15                   Estatística básica\n",
       " 16                  Internet das coisas\n",
       " 17                Programação funcional\n",
       " 18                Boas práticas em Java\n",
       " 19          Orientação objetos com Java]"
      ]
     },
     "execution_count": 15,
     "metadata": {},
     "output_type": "execute_result"
    }
   ],
   "source": [
    "url = 'http://tabela-cursos.herokuapp.com/index.html'\n",
    "\n",
    "cursos = pd.read_html(url)\n",
    "cursos"
   ]
  },
  {
   "cell_type": "code",
   "execution_count": 16,
   "metadata": {},
   "outputs": [
    {
     "data": {
      "text/plain": [
       "list"
      ]
     },
     "execution_count": 16,
     "metadata": {},
     "output_type": "execute_result"
    }
   ],
   "source": [
    "type(cursos)"
   ]
  },
  {
   "cell_type": "markdown",
   "metadata": {},
   "source": [
    "Convertendo lista para dataframe"
   ]
  },
  {
   "cell_type": "code",
   "execution_count": 17,
   "metadata": {},
   "outputs": [
    {
     "data": {
      "text/html": [
       "<div>\n",
       "<style scoped>\n",
       "    .dataframe tbody tr th:only-of-type {\n",
       "        vertical-align: middle;\n",
       "    }\n",
       "\n",
       "    .dataframe tbody tr th {\n",
       "        vertical-align: top;\n",
       "    }\n",
       "\n",
       "    .dataframe thead th {\n",
       "        text-align: right;\n",
       "    }\n",
       "</style>\n",
       "<table border=\"1\" class=\"dataframe\">\n",
       "  <thead>\n",
       "    <tr style=\"text-align: right;\">\n",
       "      <th></th>\n",
       "      <th>Nome do curso</th>\n",
       "    </tr>\n",
       "  </thead>\n",
       "  <tbody>\n",
       "    <tr>\n",
       "      <th>0</th>\n",
       "      <td>Lógica de programação</td>\n",
       "    </tr>\n",
       "    <tr>\n",
       "      <th>1</th>\n",
       "      <td>Java para Web</td>\n",
       "    </tr>\n",
       "    <tr>\n",
       "      <th>2</th>\n",
       "      <td>C# para Web</td>\n",
       "    </tr>\n",
       "    <tr>\n",
       "      <th>3</th>\n",
       "      <td>Ruby on Rails</td>\n",
       "    </tr>\n",
       "    <tr>\n",
       "      <th>4</th>\n",
       "      <td>Cursos de Python</td>\n",
       "    </tr>\n",
       "  </tbody>\n",
       "</table>\n",
       "</div>"
      ],
      "text/plain": [
       "           Nome do curso\n",
       "0  Lógica de programação\n",
       "1          Java para Web\n",
       "2            C# para Web\n",
       "3          Ruby on Rails\n",
       "4       Cursos de Python"
      ]
     },
     "execution_count": 17,
     "metadata": {},
     "output_type": "execute_result"
    }
   ],
   "source": [
    "cursos = cursos[0]\n",
    "cursos.head()"
   ]
  },
  {
   "cell_type": "code",
   "execution_count": 18,
   "metadata": {},
   "outputs": [
    {
     "data": {
      "text/plain": [
       "pandas.core.frame.DataFrame"
      ]
     },
     "execution_count": 18,
     "metadata": {},
     "output_type": "execute_result"
    }
   ],
   "source": [
    "type(cursos)"
   ]
  },
  {
   "cell_type": "markdown",
   "metadata": {},
   "source": [
    "Renomeando coluna"
   ]
  },
  {
   "cell_type": "code",
   "execution_count": 19,
   "metadata": {},
   "outputs": [
    {
     "data": {
      "text/html": [
       "<div>\n",
       "<style scoped>\n",
       "    .dataframe tbody tr th:only-of-type {\n",
       "        vertical-align: middle;\n",
       "    }\n",
       "\n",
       "    .dataframe tbody tr th {\n",
       "        vertical-align: top;\n",
       "    }\n",
       "\n",
       "    .dataframe thead th {\n",
       "        text-align: right;\n",
       "    }\n",
       "</style>\n",
       "<table border=\"1\" class=\"dataframe\">\n",
       "  <thead>\n",
       "    <tr style=\"text-align: right;\">\n",
       "      <th></th>\n",
       "      <th>nome_do_curso</th>\n",
       "    </tr>\n",
       "  </thead>\n",
       "  <tbody>\n",
       "    <tr>\n",
       "      <th>0</th>\n",
       "      <td>Lógica de programação</td>\n",
       "    </tr>\n",
       "    <tr>\n",
       "      <th>1</th>\n",
       "      <td>Java para Web</td>\n",
       "    </tr>\n",
       "    <tr>\n",
       "      <th>2</th>\n",
       "      <td>C# para Web</td>\n",
       "    </tr>\n",
       "    <tr>\n",
       "      <th>3</th>\n",
       "      <td>Ruby on Rails</td>\n",
       "    </tr>\n",
       "    <tr>\n",
       "      <th>4</th>\n",
       "      <td>Cursos de Python</td>\n",
       "    </tr>\n",
       "  </tbody>\n",
       "</table>\n",
       "</div>"
      ],
      "text/plain": [
       "           nome_do_curso\n",
       "0  Lógica de programação\n",
       "1          Java para Web\n",
       "2            C# para Web\n",
       "3          Ruby on Rails\n",
       "4       Cursos de Python"
      ]
     },
     "execution_count": 19,
     "metadata": {},
     "output_type": "execute_result"
    }
   ],
   "source": [
    "cursos = cursos.rename(columns={'Nome do curso' : 'nome_do_curso'})\n",
    "cursos.head()"
   ]
  },
  {
   "cell_type": "markdown",
   "metadata": {},
   "source": [
    "Criando nova coluna id, começando no número 1. Em seguida determino essa nova coluna com índice"
   ]
  },
  {
   "cell_type": "code",
   "execution_count": 20,
   "metadata": {},
   "outputs": [
    {
     "data": {
      "text/html": [
       "<div>\n",
       "<style scoped>\n",
       "    .dataframe tbody tr th:only-of-type {\n",
       "        vertical-align: middle;\n",
       "    }\n",
       "\n",
       "    .dataframe tbody tr th {\n",
       "        vertical-align: top;\n",
       "    }\n",
       "\n",
       "    .dataframe thead th {\n",
       "        text-align: right;\n",
       "    }\n",
       "</style>\n",
       "<table border=\"1\" class=\"dataframe\">\n",
       "  <thead>\n",
       "    <tr style=\"text-align: right;\">\n",
       "      <th></th>\n",
       "      <th>nome_do_curso</th>\n",
       "      <th>id_curso</th>\n",
       "    </tr>\n",
       "  </thead>\n",
       "  <tbody>\n",
       "    <tr>\n",
       "      <th>0</th>\n",
       "      <td>Lógica de programação</td>\n",
       "      <td>1</td>\n",
       "    </tr>\n",
       "    <tr>\n",
       "      <th>1</th>\n",
       "      <td>Java para Web</td>\n",
       "      <td>2</td>\n",
       "    </tr>\n",
       "    <tr>\n",
       "      <th>2</th>\n",
       "      <td>C# para Web</td>\n",
       "      <td>3</td>\n",
       "    </tr>\n",
       "    <tr>\n",
       "      <th>3</th>\n",
       "      <td>Ruby on Rails</td>\n",
       "      <td>4</td>\n",
       "    </tr>\n",
       "    <tr>\n",
       "      <th>4</th>\n",
       "      <td>Cursos de Python</td>\n",
       "      <td>5</td>\n",
       "    </tr>\n",
       "  </tbody>\n",
       "</table>\n",
       "</div>"
      ],
      "text/plain": [
       "           nome_do_curso  id_curso\n",
       "0  Lógica de programação         1\n",
       "1          Java para Web         2\n",
       "2            C# para Web         3\n",
       "3          Ruby on Rails         4\n",
       "4       Cursos de Python         5"
      ]
     },
     "execution_count": 20,
     "metadata": {},
     "output_type": "execute_result"
    }
   ],
   "source": [
    "cursos['id_curso'] = cursos.index + 1\n",
    "cursos.head()"
   ]
  },
  {
   "cell_type": "code",
   "execution_count": 21,
   "metadata": {},
   "outputs": [
    {
     "data": {
      "text/html": [
       "<div>\n",
       "<style scoped>\n",
       "    .dataframe tbody tr th:only-of-type {\n",
       "        vertical-align: middle;\n",
       "    }\n",
       "\n",
       "    .dataframe tbody tr th {\n",
       "        vertical-align: top;\n",
       "    }\n",
       "\n",
       "    .dataframe thead th {\n",
       "        text-align: right;\n",
       "    }\n",
       "</style>\n",
       "<table border=\"1\" class=\"dataframe\">\n",
       "  <thead>\n",
       "    <tr style=\"text-align: right;\">\n",
       "      <th></th>\n",
       "      <th>nome_do_curso</th>\n",
       "    </tr>\n",
       "    <tr>\n",
       "      <th>id_curso</th>\n",
       "      <th></th>\n",
       "    </tr>\n",
       "  </thead>\n",
       "  <tbody>\n",
       "    <tr>\n",
       "      <th>1</th>\n",
       "      <td>Lógica de programação</td>\n",
       "    </tr>\n",
       "    <tr>\n",
       "      <th>2</th>\n",
       "      <td>Java para Web</td>\n",
       "    </tr>\n",
       "    <tr>\n",
       "      <th>3</th>\n",
       "      <td>C# para Web</td>\n",
       "    </tr>\n",
       "    <tr>\n",
       "      <th>4</th>\n",
       "      <td>Ruby on Rails</td>\n",
       "    </tr>\n",
       "    <tr>\n",
       "      <th>5</th>\n",
       "      <td>Cursos de Python</td>\n",
       "    </tr>\n",
       "  </tbody>\n",
       "</table>\n",
       "</div>"
      ],
      "text/plain": [
       "                  nome_do_curso\n",
       "id_curso                       \n",
       "1         Lógica de programação\n",
       "2                 Java para Web\n",
       "3                   C# para Web\n",
       "4                 Ruby on Rails\n",
       "5              Cursos de Python"
      ]
     },
     "execution_count": 21,
     "metadata": {},
     "output_type": "execute_result"
    }
   ],
   "source": [
    "cursos = cursos.set_index('id_curso')\n",
    "cursos.head()"
   ]
  },
  {
   "cell_type": "markdown",
   "metadata": {},
   "source": [
    "## Matriculando os alunos nos cursos"
   ]
  },
  {
   "cell_type": "code",
   "execution_count": 22,
   "metadata": {},
   "outputs": [
    {
     "data": {
      "text/html": [
       "<div>\n",
       "<style scoped>\n",
       "    .dataframe tbody tr th:only-of-type {\n",
       "        vertical-align: middle;\n",
       "    }\n",
       "\n",
       "    .dataframe tbody tr th {\n",
       "        vertical-align: top;\n",
       "    }\n",
       "\n",
       "    .dataframe thead th {\n",
       "        text-align: right;\n",
       "    }\n",
       "</style>\n",
       "<table border=\"1\" class=\"dataframe\">\n",
       "  <thead>\n",
       "    <tr style=\"text-align: right;\">\n",
       "      <th></th>\n",
       "      <th>nome</th>\n",
       "      <th>id_aluno</th>\n",
       "      <th>email</th>\n",
       "    </tr>\n",
       "  </thead>\n",
       "  <tbody>\n",
       "    <tr>\n",
       "      <th>152</th>\n",
       "      <td>GERSON</td>\n",
       "      <td>273</td>\n",
       "      <td>gerson@aluno-platx.com.br</td>\n",
       "    </tr>\n",
       "    <tr>\n",
       "      <th>45</th>\n",
       "      <td>ANDREIA</td>\n",
       "      <td>400</td>\n",
       "      <td>andreia@aluno-platy.com.br</td>\n",
       "    </tr>\n",
       "    <tr>\n",
       "      <th>145</th>\n",
       "      <td>ITALO</td>\n",
       "      <td>325</td>\n",
       "      <td>italo@aluno-platy.com.br</td>\n",
       "    </tr>\n",
       "    <tr>\n",
       "      <th>32</th>\n",
       "      <td>MARCIO</td>\n",
       "      <td>380</td>\n",
       "      <td>marcio@aluno-platz.com.br</td>\n",
       "    </tr>\n",
       "    <tr>\n",
       "      <th>46</th>\n",
       "      <td>FABIANA</td>\n",
       "      <td>62</td>\n",
       "      <td>fabiana@aluno-platx.com.br</td>\n",
       "    </tr>\n",
       "  </tbody>\n",
       "</table>\n",
       "</div>"
      ],
      "text/plain": [
       "        nome  id_aluno                       email\n",
       "152   GERSON       273   gerson@aluno-platx.com.br\n",
       "45   ANDREIA       400  andreia@aluno-platy.com.br\n",
       "145    ITALO       325    italo@aluno-platy.com.br\n",
       "32    MARCIO       380   marcio@aluno-platz.com.br\n",
       "46   FABIANA        62  fabiana@aluno-platx.com.br"
      ]
     },
     "execution_count": 22,
     "metadata": {},
     "output_type": "execute_result"
    }
   ],
   "source": [
    "nomes.sample(5)"
   ]
  },
  {
   "cell_type": "markdown",
   "metadata": {},
   "source": [
    "Crio a coluna de matrículas em cursos, que diz a quantidade de cursos que cada aluno está inscrito. Gero um número inteiro, aleatório e acima de 0, de acordo com o total de alunos."
   ]
  },
  {
   "cell_type": "code",
   "execution_count": 23,
   "metadata": {},
   "outputs": [],
   "source": [
    "nomes['matriculas_em_cursos'] = np.ceil(np.random.exponential(size=total_alunos) * 1.5).astype(int)"
   ]
  },
  {
   "cell_type": "code",
   "execution_count": 24,
   "metadata": {},
   "outputs": [
    {
     "data": {
      "text/html": [
       "<div>\n",
       "<style scoped>\n",
       "    .dataframe tbody tr th:only-of-type {\n",
       "        vertical-align: middle;\n",
       "    }\n",
       "\n",
       "    .dataframe tbody tr th {\n",
       "        vertical-align: top;\n",
       "    }\n",
       "\n",
       "    .dataframe thead th {\n",
       "        text-align: right;\n",
       "    }\n",
       "</style>\n",
       "<table border=\"1\" class=\"dataframe\">\n",
       "  <thead>\n",
       "    <tr style=\"text-align: right;\">\n",
       "      <th></th>\n",
       "      <th>nome</th>\n",
       "      <th>id_aluno</th>\n",
       "      <th>email</th>\n",
       "      <th>matriculas_em_cursos</th>\n",
       "    </tr>\n",
       "  </thead>\n",
       "  <tbody>\n",
       "    <tr>\n",
       "      <th>12</th>\n",
       "      <td>RAFAEL</td>\n",
       "      <td>49</td>\n",
       "      <td>rafael@aluno-platz.com.br</td>\n",
       "      <td>1</td>\n",
       "    </tr>\n",
       "    <tr>\n",
       "      <th>97</th>\n",
       "      <td>OSVALDO</td>\n",
       "      <td>255</td>\n",
       "      <td>osvaldo@aluno-platy.com.br</td>\n",
       "      <td>2</td>\n",
       "    </tr>\n",
       "    <tr>\n",
       "      <th>194</th>\n",
       "      <td>CLARA</td>\n",
       "      <td>93</td>\n",
       "      <td>clara@aluno-platz.com.br</td>\n",
       "      <td>2</td>\n",
       "    </tr>\n",
       "    <tr>\n",
       "      <th>189</th>\n",
       "      <td>DALVA</td>\n",
       "      <td>295</td>\n",
       "      <td>dalva@aluno-platx.com.br</td>\n",
       "      <td>1</td>\n",
       "    </tr>\n",
       "    <tr>\n",
       "      <th>128</th>\n",
       "      <td>EDVALDO</td>\n",
       "      <td>209</td>\n",
       "      <td>edvaldo@aluno-platx.com.br</td>\n",
       "      <td>1</td>\n",
       "    </tr>\n",
       "  </tbody>\n",
       "</table>\n",
       "</div>"
      ],
      "text/plain": [
       "        nome  id_aluno                       email  matriculas_em_cursos\n",
       "12    RAFAEL        49   rafael@aluno-platz.com.br                     1\n",
       "97   OSVALDO       255  osvaldo@aluno-platy.com.br                     2\n",
       "194    CLARA        93    clara@aluno-platz.com.br                     2\n",
       "189    DALVA       295    dalva@aluno-platx.com.br                     1\n",
       "128  EDVALDO       209  edvaldo@aluno-platx.com.br                     1"
      ]
     },
     "execution_count": 24,
     "metadata": {},
     "output_type": "execute_result"
    }
   ],
   "source": [
    "nomes.sample(5)"
   ]
  },
  {
   "cell_type": "markdown",
   "metadata": {},
   "source": [
    "Gerando gráfico da distribuição de alunos em cursos"
   ]
  },
  {
   "cell_type": "code",
   "execution_count": 25,
   "metadata": {},
   "outputs": [
    {
     "data": {
      "text/plain": [
       "<matplotlib.axes._subplots.AxesSubplot at 0x7fc13018c110>"
      ]
     },
     "execution_count": 25,
     "metadata": {},
     "output_type": "execute_result"
    },
    {
     "data": {
      "image/png": "[encoded data removed]",
      "text/plain": [
       "<Figure size 432x288 with 1 Axes>"
      ]
     },
     "metadata": {
      "needs_background": "light"
     },
     "output_type": "display_data"
    }
   ],
   "source": [
    "sns.distplot(nomes.matriculas_em_cursos)"
   ]
  },
  {
   "cell_type": "markdown",
   "metadata": {},
   "source": [
    "Menor quantidade de matrículas em cursos"
   ]
  },
  {
   "cell_type": "code",
   "execution_count": 26,
   "metadata": {},
   "outputs": [
    {
     "data": {
      "text/plain": [
       "1"
      ]
     },
     "execution_count": 26,
     "metadata": {},
     "output_type": "execute_result"
    }
   ],
   "source": [
    "nomes.matriculas_em_cursos.min()"
   ]
  },
  {
   "cell_type": "markdown",
   "metadata": {},
   "source": [
    "Maior quantidade de matrículas em cursos"
   ]
  },
  {
   "cell_type": "code",
   "execution_count": 27,
   "metadata": {},
   "outputs": [
    {
     "data": {
      "text/plain": [
       "8"
      ]
     },
     "execution_count": 27,
     "metadata": {},
     "output_type": "execute_result"
    }
   ],
   "source": [
    "nomes['matriculas_em_cursos'].max()"
   ]
  },
  {
   "cell_type": "markdown",
   "metadata": {},
   "source": [
    "Contagem de alunos inscritos em determinado número de cursos.\n",
    "\n",
    "1° coluna: número de cursos matriculados\n",
    "\n",
    "2° coluna: quantidade de alunos\n"
   ]
  },
  {
   "cell_type": "code",
   "execution_count": 28,
   "metadata": {},
   "outputs": [
    {
     "data": {
      "text/plain": [
       "1    198\n",
       "2    105\n",
       "3     54\n",
       "4     21\n",
       "5      8\n",
       "7      7\n",
       "6      6\n",
       "8      1\n",
       "Name: matriculas_em_cursos, dtype: int64"
      ]
     },
     "execution_count": 28,
     "metadata": {},
     "output_type": "execute_result"
    }
   ],
   "source": [
    "nomes.matriculas_em_cursos.value_counts()"
   ]
  },
  {
   "cell_type": "markdown",
   "metadata": {},
   "source": [
    "## Selecionando cursos"
   ]
  },
  {
   "cell_type": "markdown",
   "metadata": {},
   "source": [
    "Distribuir os cursos para os alunos, conforme o número de cursos em que cada um está matriculado."
   ]
  },
  {
   "cell_type": "code",
   "execution_count": 29,
   "metadata": {},
   "outputs": [],
   "source": [
    "todas_matriculas = []\n",
    "x = np.random.rand(20)   #Função que faz uma distribuição aleatória de valores, no caso 20 pois é o número de cursos\n",
    "prob = x / sum(x)"
   ]
  },
  {
   "cell_type": "code",
   "execution_count": 30,
   "metadata": {},
   "outputs": [],
   "source": [
    "for index, row in nomes.iterrows():   #Parseia as linhas do dataframe nomes\n",
    "    id = row.id_aluno   #armazena o id do aluno na variável id\n",
    "    matriculas = row.matriculas_em_cursos   #armazena as matriculas de cada aluno na variável matrícula\n",
    "    for i in range(matriculas):\n",
    "        mat = [id, np.random.choice(cursos.index, p = prob)]   #Para cada id de aluno serão selecionados, aleatoriamente, ids de cursos (cada aluno receberá um ou mais cursos)\n",
    "        todas_matriculas.append(mat)   #atribui as matrículas geradas à uma nova lista (todas_matriculas)\n",
    "        \n",
    "matriculas = pd.DataFrame(todas_matriculas, columns=['id_aluno', 'id_curso'])   #Criando novo dataframe matriculas\n"
   ]
  },
  {
   "cell_type": "code",
   "execution_count": 31,
   "metadata": {
    "scrolled": true
   },
   "outputs": [
    {
     "data": {
      "text/html": [
       "<div>\n",
       "<style scoped>\n",
       "    .dataframe tbody tr th:only-of-type {\n",
       "        vertical-align: middle;\n",
       "    }\n",
       "\n",
       "    .dataframe tbody tr th {\n",
       "        vertical-align: top;\n",
       "    }\n",
       "\n",
       "    .dataframe thead th {\n",
       "        text-align: right;\n",
       "    }\n",
       "</style>\n",
       "<table border=\"1\" class=\"dataframe\">\n",
       "  <thead>\n",
       "    <tr style=\"text-align: right;\">\n",
       "      <th></th>\n",
       "      <th>id_aluno</th>\n",
       "      <th>id_curso</th>\n",
       "    </tr>\n",
       "  </thead>\n",
       "  <tbody>\n",
       "    <tr>\n",
       "      <th>0</th>\n",
       "      <td>77</td>\n",
       "      <td>9</td>\n",
       "    </tr>\n",
       "    <tr>\n",
       "      <th>1</th>\n",
       "      <td>371</td>\n",
       "      <td>18</td>\n",
       "    </tr>\n",
       "    <tr>\n",
       "      <th>2</th>\n",
       "      <td>371</td>\n",
       "      <td>2</td>\n",
       "    </tr>\n",
       "    <tr>\n",
       "      <th>3</th>\n",
       "      <td>371</td>\n",
       "      <td>15</td>\n",
       "    </tr>\n",
       "    <tr>\n",
       "      <th>4</th>\n",
       "      <td>371</td>\n",
       "      <td>8</td>\n",
       "    </tr>\n",
       "    <tr>\n",
       "      <th>5</th>\n",
       "      <td>371</td>\n",
       "      <td>5</td>\n",
       "    </tr>\n",
       "    <tr>\n",
       "      <th>6</th>\n",
       "      <td>64</td>\n",
       "      <td>12</td>\n",
       "    </tr>\n",
       "    <tr>\n",
       "      <th>7</th>\n",
       "      <td>375</td>\n",
       "      <td>11</td>\n",
       "    </tr>\n",
       "    <tr>\n",
       "      <th>8</th>\n",
       "      <td>329</td>\n",
       "      <td>3</td>\n",
       "    </tr>\n",
       "    <tr>\n",
       "      <th>9</th>\n",
       "      <td>329</td>\n",
       "      <td>18</td>\n",
       "    </tr>\n",
       "  </tbody>\n",
       "</table>\n",
       "</div>"
      ],
      "text/plain": [
       "   id_aluno  id_curso\n",
       "0        77         9\n",
       "1       371        18\n",
       "2       371         2\n",
       "3       371        15\n",
       "4       371         8\n",
       "5       371         5\n",
       "6        64        12\n",
       "7       375        11\n",
       "8       329         3\n",
       "9       329        18"
      ]
     },
     "execution_count": 31,
     "metadata": {},
     "output_type": "execute_result"
    }
   ],
   "source": [
    "matriculas.head(10)"
   ]
  },
  {
   "cell_type": "markdown",
   "metadata": {},
   "source": [
    "Agora é feita a junção do dataframe 'matricula' com o 'cursos' (coluna 'nome_do_curso'), ordenando pelo id do curso.\n",
    "\n",
    "Renomeio a coluna 'id_aluno' para 'quantidade_alunos'.\n",
    "\n",
    "Assim sabemos quantos alunos têm matriculados em cada curso."
   ]
  },
  {
   "cell_type": "code",
   "execution_count": 32,
   "metadata": {},
   "outputs": [
    {
     "data": {
      "text/html": [
       "<div>\n",
       "<style scoped>\n",
       "    .dataframe tbody tr th:only-of-type {\n",
       "        vertical-align: middle;\n",
       "    }\n",
       "\n",
       "    .dataframe tbody tr th {\n",
       "        vertical-align: top;\n",
       "    }\n",
       "\n",
       "    .dataframe thead th {\n",
       "        text-align: right;\n",
       "    }\n",
       "</style>\n",
       "<table border=\"1\" class=\"dataframe\">\n",
       "  <thead>\n",
       "    <tr style=\"text-align: right;\">\n",
       "      <th></th>\n",
       "      <th>quantidade_alunos</th>\n",
       "      <th>nome_do_curso</th>\n",
       "    </tr>\n",
       "    <tr>\n",
       "      <th>id_curso</th>\n",
       "      <th></th>\n",
       "      <th></th>\n",
       "    </tr>\n",
       "  </thead>\n",
       "  <tbody>\n",
       "    <tr>\n",
       "      <th>1</th>\n",
       "      <td>40</td>\n",
       "      <td>Lógica de programação</td>\n",
       "    </tr>\n",
       "    <tr>\n",
       "      <th>2</th>\n",
       "      <td>58</td>\n",
       "      <td>Java para Web</td>\n",
       "    </tr>\n",
       "    <tr>\n",
       "      <th>3</th>\n",
       "      <td>54</td>\n",
       "      <td>C# para Web</td>\n",
       "    </tr>\n",
       "    <tr>\n",
       "      <th>4</th>\n",
       "      <td>39</td>\n",
       "      <td>Ruby on Rails</td>\n",
       "    </tr>\n",
       "    <tr>\n",
       "      <th>5</th>\n",
       "      <td>71</td>\n",
       "      <td>Cursos de Python</td>\n",
       "    </tr>\n",
       "    <tr>\n",
       "      <th>6</th>\n",
       "      <td>3</td>\n",
       "      <td>PHP com MySql</td>\n",
       "    </tr>\n",
       "    <tr>\n",
       "      <th>7</th>\n",
       "      <td>47</td>\n",
       "      <td>.NET para web</td>\n",
       "    </tr>\n",
       "    <tr>\n",
       "      <th>8</th>\n",
       "      <td>36</td>\n",
       "      <td>Novas integrações com Java</td>\n",
       "    </tr>\n",
       "    <tr>\n",
       "      <th>9</th>\n",
       "      <td>23</td>\n",
       "      <td>TDD com Java</td>\n",
       "    </tr>\n",
       "    <tr>\n",
       "      <th>10</th>\n",
       "      <td>9</td>\n",
       "      <td>Código limpo com C#</td>\n",
       "    </tr>\n",
       "  </tbody>\n",
       "</table>\n",
       "</div>"
      ],
      "text/plain": [
       "          quantidade_alunos               nome_do_curso\n",
       "id_curso                                               \n",
       "1                        40       Lógica de programação\n",
       "2                        58               Java para Web\n",
       "3                        54                 C# para Web\n",
       "4                        39               Ruby on Rails\n",
       "5                        71            Cursos de Python\n",
       "6                         3               PHP com MySql\n",
       "7                        47               .NET para web\n",
       "8                        36  Novas integrações com Java\n",
       "9                        23                TDD com Java\n",
       "10                        9         Código limpo com C#"
      ]
     },
     "execution_count": 32,
     "metadata": {},
     "output_type": "execute_result"
    }
   ],
   "source": [
    "matriculas_por_curso = matriculas.groupby('id_curso').count().join(cursos['nome_do_curso']).rename(columns={'id_aluno':'quantidade_alunos'})\n",
    "matriculas_por_curso.head(10)"
   ]
  },
  {
   "cell_type": "markdown",
   "metadata": {},
   "source": [
    "## Saída em diferentes formatos"
   ]
  },
  {
   "cell_type": "markdown",
   "metadata": {},
   "source": [
    "### Para CSV"
   ]
  },
  {
   "cell_type": "code",
   "execution_count": 33,
   "metadata": {},
   "outputs": [],
   "source": [
    "matriculas_por_curso.to_csv('matriculas_por_curso.csv')"
   ]
  },
  {
   "cell_type": "code",
   "execution_count": 34,
   "metadata": {},
   "outputs": [
    {
     "data": {
      "text/html": [
       "<div>\n",
       "<style scoped>\n",
       "    .dataframe tbody tr th:only-of-type {\n",
       "        vertical-align: middle;\n",
       "    }\n",
       "\n",
       "    .dataframe tbody tr th {\n",
       "        vertical-align: top;\n",
       "    }\n",
       "\n",
       "    .dataframe thead th {\n",
       "        text-align: right;\n",
       "    }\n",
       "</style>\n",
       "<table border=\"1\" class=\"dataframe\">\n",
       "  <thead>\n",
       "    <tr style=\"text-align: right;\">\n",
       "      <th></th>\n",
       "      <th>id_curso</th>\n",
       "      <th>quantidade_alunos</th>\n",
       "      <th>nome_do_curso</th>\n",
       "    </tr>\n",
       "  </thead>\n",
       "  <tbody>\n",
       "    <tr>\n",
       "      <th>0</th>\n",
       "      <td>1</td>\n",
       "      <td>40</td>\n",
       "      <td>Lógica de programação</td>\n",
       "    </tr>\n",
       "    <tr>\n",
       "      <th>1</th>\n",
       "      <td>2</td>\n",
       "      <td>58</td>\n",
       "      <td>Java para Web</td>\n",
       "    </tr>\n",
       "    <tr>\n",
       "      <th>2</th>\n",
       "      <td>3</td>\n",
       "      <td>54</td>\n",
       "      <td>C# para Web</td>\n",
       "    </tr>\n",
       "    <tr>\n",
       "      <th>3</th>\n",
       "      <td>4</td>\n",
       "      <td>39</td>\n",
       "      <td>Ruby on Rails</td>\n",
       "    </tr>\n",
       "    <tr>\n",
       "      <th>4</th>\n",
       "      <td>5</td>\n",
       "      <td>71</td>\n",
       "      <td>Cursos de Python</td>\n",
       "    </tr>\n",
       "    <tr>\n",
       "      <th>5</th>\n",
       "      <td>6</td>\n",
       "      <td>3</td>\n",
       "      <td>PHP com MySql</td>\n",
       "    </tr>\n",
       "    <tr>\n",
       "      <th>6</th>\n",
       "      <td>7</td>\n",
       "      <td>47</td>\n",
       "      <td>.NET para web</td>\n",
       "    </tr>\n",
       "    <tr>\n",
       "      <th>7</th>\n",
       "      <td>8</td>\n",
       "      <td>36</td>\n",
       "      <td>Novas integrações com Java</td>\n",
       "    </tr>\n",
       "    <tr>\n",
       "      <th>8</th>\n",
       "      <td>9</td>\n",
       "      <td>23</td>\n",
       "      <td>TDD com Java</td>\n",
       "    </tr>\n",
       "    <tr>\n",
       "      <th>9</th>\n",
       "      <td>10</td>\n",
       "      <td>9</td>\n",
       "      <td>Código limpo com C#</td>\n",
       "    </tr>\n",
       "    <tr>\n",
       "      <th>10</th>\n",
       "      <td>11</td>\n",
       "      <td>18</td>\n",
       "      <td>Preparatório para certificação Java</td>\n",
       "    </tr>\n",
       "    <tr>\n",
       "      <th>11</th>\n",
       "      <td>12</td>\n",
       "      <td>43</td>\n",
       "      <td>Hardware básico</td>\n",
       "    </tr>\n",
       "    <tr>\n",
       "      <th>12</th>\n",
       "      <td>13</td>\n",
       "      <td>18</td>\n",
       "      <td>Persistência com .NET</td>\n",
       "    </tr>\n",
       "    <tr>\n",
       "      <th>13</th>\n",
       "      <td>14</td>\n",
       "      <td>46</td>\n",
       "      <td>Desenvolvendo jogos</td>\n",
       "    </tr>\n",
       "    <tr>\n",
       "      <th>14</th>\n",
       "      <td>15</td>\n",
       "      <td>80</td>\n",
       "      <td>Análise de dados</td>\n",
       "    </tr>\n",
       "    <tr>\n",
       "      <th>15</th>\n",
       "      <td>16</td>\n",
       "      <td>13</td>\n",
       "      <td>Estatística básica</td>\n",
       "    </tr>\n",
       "    <tr>\n",
       "      <th>16</th>\n",
       "      <td>17</td>\n",
       "      <td>66</td>\n",
       "      <td>Internet das coisas</td>\n",
       "    </tr>\n",
       "    <tr>\n",
       "      <th>17</th>\n",
       "      <td>18</td>\n",
       "      <td>67</td>\n",
       "      <td>Programação funcional</td>\n",
       "    </tr>\n",
       "    <tr>\n",
       "      <th>18</th>\n",
       "      <td>19</td>\n",
       "      <td>54</td>\n",
       "      <td>Boas práticas em Java</td>\n",
       "    </tr>\n",
       "    <tr>\n",
       "      <th>19</th>\n",
       "      <td>20</td>\n",
       "      <td>2</td>\n",
       "      <td>Orientação objetos com Java</td>\n",
       "    </tr>\n",
       "  </tbody>\n",
       "</table>\n",
       "</div>"
      ],
      "text/plain": [
       "    id_curso  quantidade_alunos                        nome_do_curso\n",
       "0          1                 40                Lógica de programação\n",
       "1          2                 58                        Java para Web\n",
       "2          3                 54                          C# para Web\n",
       "3          4                 39                        Ruby on Rails\n",
       "4          5                 71                     Cursos de Python\n",
       "5          6                  3                        PHP com MySql\n",
       "6          7                 47                        .NET para web\n",
       "7          8                 36           Novas integrações com Java\n",
       "8          9                 23                         TDD com Java\n",
       "9         10                  9                  Código limpo com C#\n",
       "10        11                 18  Preparatório para certificação Java\n",
       "11        12                 43                      Hardware básico\n",
       "12        13                 18                Persistência com .NET\n",
       "13        14                 46                  Desenvolvendo jogos\n",
       "14        15                 80                     Análise de dados\n",
       "15        16                 13                   Estatística básica\n",
       "16        17                 66                  Internet das coisas\n",
       "17        18                 67                Programação funcional\n",
       "18        19                 54                Boas práticas em Java\n",
       "19        20                  2          Orientação objetos com Java"
      ]
     },
     "execution_count": 34,
     "metadata": {},
     "output_type": "execute_result"
    }
   ],
   "source": [
    "pd.read_csv('matriculas_por_curso.csv')"
   ]
  },
  {
   "cell_type": "markdown",
   "metadata": {},
   "source": [
    "### Para Json"
   ]
  },
  {
   "cell_type": "code",
   "execution_count": 35,
   "metadata": {},
   "outputs": [],
   "source": [
    "matriculas_json = matriculas_por_curso.to_json()"
   ]
  },
  {
   "cell_type": "code",
   "execution_count": 36,
   "metadata": {},
   "outputs": [
    {
     "data": {
      "text/plain": [
       "'{\"quantidade_alunos\":{\"1\":40,\"2\":58,\"3\":54,\"4\":39,\"5\":71,\"6\":3,\"7\":47,\"8\":36,\"9\":23,\"10\":9,\"11\":18,\"12\":43,\"13\":18,\"14\":46,\"15\":80,\"16\":13,\"17\":66,\"18\":67,\"19\":54,\"20\":2},\"nome_do_curso\":{\"1\":\"L\\\\u00f3gica de programa\\\\u00e7\\\\u00e3o\",\"2\":\"Java para Web\",\"3\":\"C# para Web\",\"4\":\"Ruby on Rails\",\"5\":\"Cursos de Python\",\"6\":\"PHP com MySql\",\"7\":\".NET para web\",\"8\":\"Novas integra\\\\u00e7\\\\u00f5es com Java\",\"9\":\"TDD com Java\",\"10\":\"C\\\\u00f3digo limpo com C#\",\"11\":\"Preparat\\\\u00f3rio para certifica\\\\u00e7\\\\u00e3o Java\",\"12\":\"Hardware b\\\\u00e1sico\",\"13\":\"Persist\\\\u00eancia com .NET\",\"14\":\"Desenvolvendo jogos\",\"15\":\"An\\\\u00e1lise de dados\",\"16\":\"Estat\\\\u00edstica b\\\\u00e1sica\",\"17\":\"Internet das coisas\",\"18\":\"Programa\\\\u00e7\\\\u00e3o funcional\",\"19\":\"Boas pr\\\\u00e1ticas em Java\",\"20\":\"Orienta\\\\u00e7\\\\u00e3o objetos com Java\"}}'"
      ]
     },
     "execution_count": 36,
     "metadata": {},
     "output_type": "execute_result"
    }
   ],
   "source": [
    "matriculas_json"
   ]
  },
  {
   "cell_type": "markdown",
   "metadata": {},
   "source": [
    "### Para HTML"
   ]
  },
  {
   "cell_type": "code",
   "execution_count": 37,
   "metadata": {},
   "outputs": [],
   "source": [
    "matriculas_html = matriculas_por_curso.to_html()"
   ]
  },
  {
   "cell_type": "code",
   "execution_count": 38,
   "metadata": {},
   "outputs": [
    {
     "data": {
      "text/plain": [
       "'<table border=\"1\" class=\"dataframe\">\\n  <thead>\\n    <tr style=\"text-align: right;\">\\n      <th></th>\\n      <th>quantidade_alunos</th>\\n      <th>nome_do_curso</th>\\n    </tr>\\n    <tr>\\n      <th>id_curso</th>\\n      <th></th>\\n      <th></th>\\n    </tr>\\n  </thead>\\n  <tbody>\\n    <tr>\\n      <th>1</th>\\n      <td>40</td>\\n      <td>Lógica de programação</td>\\n    </tr>\\n    <tr>\\n      <th>2</th>\\n      <td>58</td>\\n      <td>Java para Web</td>\\n    </tr>\\n    <tr>\\n      <th>3</th>\\n      <td>54</td>\\n      <td>C# para Web</td>\\n    </tr>\\n    <tr>\\n      <th>4</th>\\n      <td>39</td>\\n      <td>Ruby on Rails</td>\\n    </tr>\\n    <tr>\\n      <th>5</th>\\n      <td>71</td>\\n      <td>Cursos de Python</td>\\n    </tr>\\n    <tr>\\n      <th>6</th>\\n      <td>3</td>\\n      <td>PHP com MySql</td>\\n    </tr>\\n    <tr>\\n      <th>7</th>\\n      <td>47</td>\\n      <td>.NET para web</td>\\n    </tr>\\n    <tr>\\n      <th>8</th>\\n      <td>36</td>\\n      <td>Novas integrações com Java</td>\\n    </tr>\\n    <tr>\\n      <th>9</th>\\n      <td>23</td>\\n      <td>TDD com Java</td>\\n    </tr>\\n    <tr>\\n      <th>10</th>\\n      <td>9</td>\\n      <td>Código limpo com C#</td>\\n    </tr>\\n    <tr>\\n      <th>11</th>\\n      <td>18</td>\\n      <td>Preparatório para certificação Java</td>\\n    </tr>\\n    <tr>\\n      <th>12</th>\\n      <td>43</td>\\n      <td>Hardware básico</td>\\n    </tr>\\n    <tr>\\n      <th>13</th>\\n      <td>18</td>\\n      <td>Persistência com .NET</td>\\n    </tr>\\n    <tr>\\n      <th>14</th>\\n      <td>46</td>\\n      <td>Desenvolvendo jogos</td>\\n    </tr>\\n    <tr>\\n      <th>15</th>\\n      <td>80</td>\\n      <td>Análise de dados</td>\\n    </tr>\\n    <tr>\\n      <th>16</th>\\n      <td>13</td>\\n      <td>Estatística básica</td>\\n    </tr>\\n    <tr>\\n      <th>17</th>\\n      <td>66</td>\\n      <td>Internet das coisas</td>\\n    </tr>\\n    <tr>\\n      <th>18</th>\\n      <td>67</td>\\n      <td>Programação funcional</td>\\n    </tr>\\n    <tr>\\n      <th>19</th>\\n      <td>54</td>\\n      <td>Boas práticas em Java</td>\\n    </tr>\\n    <tr>\\n      <th>20</th>\\n      <td>2</td>\\n      <td>Orientação objetos com Java</td>\\n    </tr>\\n  </tbody>\\n</table>'"
      ]
     },
     "execution_count": 38,
     "metadata": {},
     "output_type": "execute_result"
    }
   ],
   "source": [
    "matriculas_html"
   ]
  },
  {
   "cell_type": "code",
   "execution_count": 39,
   "metadata": {},
   "outputs": [
    {
     "name": "stdout",
     "output_type": "stream",
     "text": [
      "<table border=\"1\" class=\"dataframe\">\n",
      "  <thead>\n",
      "    <tr style=\"text-align: right;\">\n",
      "      <th></th>\n",
      "      <th>quantidade_alunos</th>\n",
      "      <th>nome_do_curso</th>\n",
      "    </tr>\n",
      "    <tr>\n",
      "      <th>id_curso</th>\n",
      "      <th></th>\n",
      "      <th></th>\n",
      "    </tr>\n",
      "  </thead>\n",
      "  <tbody>\n",
      "    <tr>\n",
      "      <th>1</th>\n",
      "      <td>40</td>\n",
      "      <td>Lógica de programação</td>\n",
      "    </tr>\n",
      "    <tr>\n",
      "      <th>2</th>\n",
      "      <td>58</td>\n",
      "      <td>Java para Web</td>\n",
      "    </tr>\n",
      "    <tr>\n",
      "      <th>3</th>\n",
      "      <td>54</td>\n",
      "      <td>C# para Web</td>\n",
      "    </tr>\n",
      "    <tr>\n",
      "      <th>4</th>\n",
      "      <td>39</td>\n",
      "      <td>Ruby on Rails</td>\n",
      "    </tr>\n",
      "    <tr>\n",
      "      <th>5</th>\n",
      "      <td>71</td>\n",
      "      <td>Cursos de Python</td>\n",
      "    </tr>\n",
      "    <tr>\n",
      "      <th>6</th>\n",
      "      <td>3</td>\n",
      "      <td>PHP com MySql</td>\n",
      "    </tr>\n",
      "    <tr>\n",
      "      <th>7</th>\n",
      "      <td>47</td>\n",
      "      <td>.NET para web</td>\n",
      "    </tr>\n",
      "    <tr>\n",
      "      <th>8</th>\n",
      "      <td>36</td>\n",
      "      <td>Novas integrações com Java</td>\n",
      "    </tr>\n",
      "    <tr>\n",
      "      <th>9</th>\n",
      "      <td>23</td>\n",
      "      <td>TDD com Java</td>\n",
      "    </tr>\n",
      "    <tr>\n",
      "      <th>10</th>\n",
      "      <td>9</td>\n",
      "      <td>Código limpo com C#</td>\n",
      "    </tr>\n",
      "    <tr>\n",
      "      <th>11</th>\n",
      "      <td>18</td>\n",
      "      <td>Preparatório para certificação Java</td>\n",
      "    </tr>\n",
      "    <tr>\n",
      "      <th>12</th>\n",
      "      <td>43</td>\n",
      "      <td>Hardware básico</td>\n",
      "    </tr>\n",
      "    <tr>\n",
      "      <th>13</th>\n",
      "      <td>18</td>\n",
      "      <td>Persistência com .NET</td>\n",
      "    </tr>\n",
      "    <tr>\n",
      "      <th>14</th>\n",
      "      <td>46</td>\n",
      "      <td>Desenvolvendo jogos</td>\n",
      "    </tr>\n",
      "    <tr>\n",
      "      <th>15</th>\n",
      "      <td>80</td>\n",
      "      <td>Análise de dados</td>\n",
      "    </tr>\n",
      "    <tr>\n",
      "      <th>16</th>\n",
      "      <td>13</td>\n",
      "      <td>Estatística básica</td>\n",
      "    </tr>\n",
      "    <tr>\n",
      "      <th>17</th>\n",
      "      <td>66</td>\n",
      "      <td>Internet das coisas</td>\n",
      "    </tr>\n",
      "    <tr>\n",
      "      <th>18</th>\n",
      "      <td>67</td>\n",
      "      <td>Programação funcional</td>\n",
      "    </tr>\n",
      "    <tr>\n",
      "      <th>19</th>\n",
      "      <td>54</td>\n",
      "      <td>Boas práticas em Java</td>\n",
      "    </tr>\n",
      "    <tr>\n",
      "      <th>20</th>\n",
      "      <td>2</td>\n",
      "      <td>Orientação objetos com Java</td>\n",
      "    </tr>\n",
      "  </tbody>\n",
      "</table>\n"
     ]
    }
   ],
   "source": [
    "print(matriculas_html)"
   ]
  },
  {
   "cell_type": "markdown",
   "metadata": {},
   "source": [
    "## Criando um Banco de Dados a partir do data frame"
   ]
  },
  {
   "cell_type": "code",
   "execution_count": 40,
   "metadata": {},
   "outputs": [
    {
     "name": "stdout",
     "output_type": "stream",
     "text": [
      "Requirement already satisfied: sqlalchemy in /home/gabriel/anaconda3/lib/python3.7/site-packages (1.3.13)\r\n"
     ]
    }
   ],
   "source": [
    "!pip install sqlalchemy"
   ]
  },
  {
   "cell_type": "code",
   "execution_count": 41,
   "metadata": {},
   "outputs": [],
   "source": [
    "from sqlalchemy import create_engine, MetaData, Table"
   ]
  },
  {
   "cell_type": "markdown",
   "metadata": {},
   "source": [
    "O sqlite é o banco de dados nativo da biblioteca, sendo usado por padrão"
   ]
  },
  {
   "cell_type": "code",
   "execution_count": 42,
   "metadata": {},
   "outputs": [],
   "source": [
    "engine = create_engine('sqlite:///:memory:')   #Salvando o banco na memória local"
   ]
  },
  {
   "cell_type": "markdown",
   "metadata": {},
   "source": [
    "Crio um banco de dados usando o data frame matriculas_por_curso;\n",
    "\n",
    "O primeiro parâmetro da função corresponde ao nome que a tabela do banco receberá, o segundo é a variável engine"
   ]
  },
  {
   "cell_type": "code",
   "execution_count": 43,
   "metadata": {},
   "outputs": [
    {
     "data": {
      "text/html": [
       "<div>\n",
       "<style scoped>\n",
       "    .dataframe tbody tr th:only-of-type {\n",
       "        vertical-align: middle;\n",
       "    }\n",
       "\n",
       "    .dataframe tbody tr th {\n",
       "        vertical-align: top;\n",
       "    }\n",
       "\n",
       "    .dataframe thead th {\n",
       "        text-align: right;\n",
       "    }\n",
       "</style>\n",
       "<table border=\"1\" class=\"dataframe\">\n",
       "  <thead>\n",
       "    <tr style=\"text-align: right;\">\n",
       "      <th></th>\n",
       "      <th>quantidade_alunos</th>\n",
       "      <th>nome_do_curso</th>\n",
       "    </tr>\n",
       "    <tr>\n",
       "      <th>id_curso</th>\n",
       "      <th></th>\n",
       "      <th></th>\n",
       "    </tr>\n",
       "  </thead>\n",
       "  <tbody>\n",
       "    <tr>\n",
       "      <th>1</th>\n",
       "      <td>40</td>\n",
       "      <td>Lógica de programação</td>\n",
       "    </tr>\n",
       "    <tr>\n",
       "      <th>2</th>\n",
       "      <td>58</td>\n",
       "      <td>Java para Web</td>\n",
       "    </tr>\n",
       "    <tr>\n",
       "      <th>3</th>\n",
       "      <td>54</td>\n",
       "      <td>C# para Web</td>\n",
       "    </tr>\n",
       "    <tr>\n",
       "      <th>4</th>\n",
       "      <td>39</td>\n",
       "      <td>Ruby on Rails</td>\n",
       "    </tr>\n",
       "    <tr>\n",
       "      <th>5</th>\n",
       "      <td>71</td>\n",
       "      <td>Cursos de Python</td>\n",
       "    </tr>\n",
       "  </tbody>\n",
       "</table>\n",
       "</div>"
      ],
      "text/plain": [
       "          quantidade_alunos          nome_do_curso\n",
       "id_curso                                          \n",
       "1                        40  Lógica de programação\n",
       "2                        58          Java para Web\n",
       "3                        54            C# para Web\n",
       "4                        39          Ruby on Rails\n",
       "5                        71       Cursos de Python"
      ]
     },
     "execution_count": 43,
     "metadata": {},
     "output_type": "execute_result"
    }
   ],
   "source": [
    "matriculas_por_curso.head()"
   ]
  },
  {
   "cell_type": "code",
   "execution_count": 44,
   "metadata": {},
   "outputs": [],
   "source": [
    "matriculas_por_curso.to_sql('matriculas', engine)"
   ]
  },
  {
   "cell_type": "markdown",
   "metadata": {},
   "source": [
    "Visualizando as tabelas existentes no Banco"
   ]
  },
  {
   "cell_type": "code",
   "execution_count": 45,
   "metadata": {},
   "outputs": [
    {
     "name": "stdout",
     "output_type": "stream",
     "text": [
      "['matriculas']\n"
     ]
    }
   ],
   "source": [
    "print(engine.table_names())"
   ]
  },
  {
   "cell_type": "markdown",
   "metadata": {},
   "source": [
    "### Buscando do Banco via sql"
   ]
  },
  {
   "cell_type": "markdown",
   "metadata": {},
   "source": [
    "Criando query de busca"
   ]
  },
  {
   "cell_type": "code",
   "execution_count": 46,
   "metadata": {},
   "outputs": [],
   "source": [
    "query = 'select * from matriculas where quantidade_alunos < 20'"
   ]
  },
  {
   "cell_type": "code",
   "execution_count": 47,
   "metadata": {},
   "outputs": [
    {
     "data": {
      "text/html": [
       "<div>\n",
       "<style scoped>\n",
       "    .dataframe tbody tr th:only-of-type {\n",
       "        vertical-align: middle;\n",
       "    }\n",
       "\n",
       "    .dataframe tbody tr th {\n",
       "        vertical-align: top;\n",
       "    }\n",
       "\n",
       "    .dataframe thead th {\n",
       "        text-align: right;\n",
       "    }\n",
       "</style>\n",
       "<table border=\"1\" class=\"dataframe\">\n",
       "  <thead>\n",
       "    <tr style=\"text-align: right;\">\n",
       "      <th></th>\n",
       "      <th>id_curso</th>\n",
       "      <th>quantidade_alunos</th>\n",
       "      <th>nome_do_curso</th>\n",
       "    </tr>\n",
       "  </thead>\n",
       "  <tbody>\n",
       "    <tr>\n",
       "      <th>0</th>\n",
       "      <td>6</td>\n",
       "      <td>3</td>\n",
       "      <td>PHP com MySql</td>\n",
       "    </tr>\n",
       "    <tr>\n",
       "      <th>1</th>\n",
       "      <td>10</td>\n",
       "      <td>9</td>\n",
       "      <td>Código limpo com C#</td>\n",
       "    </tr>\n",
       "    <tr>\n",
       "      <th>2</th>\n",
       "      <td>11</td>\n",
       "      <td>18</td>\n",
       "      <td>Preparatório para certificação Java</td>\n",
       "    </tr>\n",
       "    <tr>\n",
       "      <th>3</th>\n",
       "      <td>13</td>\n",
       "      <td>18</td>\n",
       "      <td>Persistência com .NET</td>\n",
       "    </tr>\n",
       "    <tr>\n",
       "      <th>4</th>\n",
       "      <td>16</td>\n",
       "      <td>13</td>\n",
       "      <td>Estatística básica</td>\n",
       "    </tr>\n",
       "    <tr>\n",
       "      <th>5</th>\n",
       "      <td>20</td>\n",
       "      <td>2</td>\n",
       "      <td>Orientação objetos com Java</td>\n",
       "    </tr>\n",
       "  </tbody>\n",
       "</table>\n",
       "</div>"
      ],
      "text/plain": [
       "   id_curso  quantidade_alunos                        nome_do_curso\n",
       "0         6                  3                        PHP com MySql\n",
       "1        10                  9                  Código limpo com C#\n",
       "2        11                 18  Preparatório para certificação Java\n",
       "3        13                 18                Persistência com .NET\n",
       "4        16                 13                   Estatística básica\n",
       "5        20                  2          Orientação objetos com Java"
      ]
     },
     "execution_count": 47,
     "metadata": {},
     "output_type": "execute_result"
    }
   ],
   "source": [
    "pd.read_sql(query, engine)"
   ]
  },
  {
   "cell_type": "markdown",
   "metadata": {},
   "source": [
    "Retornando colunas específicas de uma tabela e armazenando em uma variável"
   ]
  },
  {
   "cell_type": "code",
   "execution_count": 48,
   "metadata": {
    "scrolled": true
   },
   "outputs": [
    {
     "data": {
      "text/html": [
       "<div>\n",
       "<style scoped>\n",
       "    .dataframe tbody tr th:only-of-type {\n",
       "        vertical-align: middle;\n",
       "    }\n",
       "\n",
       "    .dataframe tbody tr th {\n",
       "        vertical-align: top;\n",
       "    }\n",
       "\n",
       "    .dataframe thead th {\n",
       "        text-align: right;\n",
       "    }\n",
       "</style>\n",
       "<table border=\"1\" class=\"dataframe\">\n",
       "  <thead>\n",
       "    <tr style=\"text-align: right;\">\n",
       "      <th></th>\n",
       "      <th>nome_do_curso</th>\n",
       "      <th>quantidade_alunos</th>\n",
       "    </tr>\n",
       "  </thead>\n",
       "  <tbody>\n",
       "    <tr>\n",
       "      <th>0</th>\n",
       "      <td>Lógica de programação</td>\n",
       "      <td>40</td>\n",
       "    </tr>\n",
       "    <tr>\n",
       "      <th>1</th>\n",
       "      <td>Java para Web</td>\n",
       "      <td>58</td>\n",
       "    </tr>\n",
       "    <tr>\n",
       "      <th>2</th>\n",
       "      <td>C# para Web</td>\n",
       "      <td>54</td>\n",
       "    </tr>\n",
       "    <tr>\n",
       "      <th>3</th>\n",
       "      <td>Ruby on Rails</td>\n",
       "      <td>39</td>\n",
       "    </tr>\n",
       "    <tr>\n",
       "      <th>4</th>\n",
       "      <td>Cursos de Python</td>\n",
       "      <td>71</td>\n",
       "    </tr>\n",
       "    <tr>\n",
       "      <th>5</th>\n",
       "      <td>PHP com MySql</td>\n",
       "      <td>3</td>\n",
       "    </tr>\n",
       "    <tr>\n",
       "      <th>6</th>\n",
       "      <td>.NET para web</td>\n",
       "      <td>47</td>\n",
       "    </tr>\n",
       "    <tr>\n",
       "      <th>7</th>\n",
       "      <td>Novas integrações com Java</td>\n",
       "      <td>36</td>\n",
       "    </tr>\n",
       "    <tr>\n",
       "      <th>8</th>\n",
       "      <td>TDD com Java</td>\n",
       "      <td>23</td>\n",
       "    </tr>\n",
       "    <tr>\n",
       "      <th>9</th>\n",
       "      <td>Código limpo com C#</td>\n",
       "      <td>9</td>\n",
       "    </tr>\n",
       "    <tr>\n",
       "      <th>10</th>\n",
       "      <td>Preparatório para certificação Java</td>\n",
       "      <td>18</td>\n",
       "    </tr>\n",
       "    <tr>\n",
       "      <th>11</th>\n",
       "      <td>Hardware básico</td>\n",
       "      <td>43</td>\n",
       "    </tr>\n",
       "    <tr>\n",
       "      <th>12</th>\n",
       "      <td>Persistência com .NET</td>\n",
       "      <td>18</td>\n",
       "    </tr>\n",
       "    <tr>\n",
       "      <th>13</th>\n",
       "      <td>Desenvolvendo jogos</td>\n",
       "      <td>46</td>\n",
       "    </tr>\n",
       "    <tr>\n",
       "      <th>14</th>\n",
       "      <td>Análise de dados</td>\n",
       "      <td>80</td>\n",
       "    </tr>\n",
       "    <tr>\n",
       "      <th>15</th>\n",
       "      <td>Estatística básica</td>\n",
       "      <td>13</td>\n",
       "    </tr>\n",
       "    <tr>\n",
       "      <th>16</th>\n",
       "      <td>Internet das coisas</td>\n",
       "      <td>66</td>\n",
       "    </tr>\n",
       "    <tr>\n",
       "      <th>17</th>\n",
       "      <td>Programação funcional</td>\n",
       "      <td>67</td>\n",
       "    </tr>\n",
       "    <tr>\n",
       "      <th>18</th>\n",
       "      <td>Boas práticas em Java</td>\n",
       "      <td>54</td>\n",
       "    </tr>\n",
       "    <tr>\n",
       "      <th>19</th>\n",
       "      <td>Orientação objetos com Java</td>\n",
       "      <td>2</td>\n",
       "    </tr>\n",
       "  </tbody>\n",
       "</table>\n",
       "</div>"
      ],
      "text/plain": [
       "                          nome_do_curso  quantidade_alunos\n",
       "0                 Lógica de programação                 40\n",
       "1                         Java para Web                 58\n",
       "2                           C# para Web                 54\n",
       "3                         Ruby on Rails                 39\n",
       "4                      Cursos de Python                 71\n",
       "5                         PHP com MySql                  3\n",
       "6                         .NET para web                 47\n",
       "7            Novas integrações com Java                 36\n",
       "8                          TDD com Java                 23\n",
       "9                   Código limpo com C#                  9\n",
       "10  Preparatório para certificação Java                 18\n",
       "11                      Hardware básico                 43\n",
       "12                Persistência com .NET                 18\n",
       "13                  Desenvolvendo jogos                 46\n",
       "14                     Análise de dados                 80\n",
       "15                   Estatística básica                 13\n",
       "16                  Internet das coisas                 66\n",
       "17                Programação funcional                 67\n",
       "18                Boas práticas em Java                 54\n",
       "19          Orientação objetos com Java                  2"
      ]
     },
     "execution_count": 48,
     "metadata": {},
     "output_type": "execute_result"
    }
   ],
   "source": [
    "alunos_por_cursos = pd.read_sql_table('matriculas', engine, columns=['nome_do_curso', 'quantidade_alunos'])\n",
    "alunos_por_cursos"
   ]
  },
  {
   "cell_type": "markdown",
   "metadata": {},
   "source": [
    "Com essa variável também é possível realizar querys"
   ]
  },
  {
   "cell_type": "code",
   "execution_count": 49,
   "metadata": {},
   "outputs": [
    {
     "data": {
      "text/html": [
       "<div>\n",
       "<style scoped>\n",
       "    .dataframe tbody tr th:only-of-type {\n",
       "        vertical-align: middle;\n",
       "    }\n",
       "\n",
       "    .dataframe tbody tr th {\n",
       "        vertical-align: top;\n",
       "    }\n",
       "\n",
       "    .dataframe thead th {\n",
       "        text-align: right;\n",
       "    }\n",
       "</style>\n",
       "<table border=\"1\" class=\"dataframe\">\n",
       "  <thead>\n",
       "    <tr style=\"text-align: right;\">\n",
       "      <th></th>\n",
       "      <th>nome_do_curso</th>\n",
       "      <th>quantidade_alunos</th>\n",
       "    </tr>\n",
       "  </thead>\n",
       "  <tbody>\n",
       "    <tr>\n",
       "      <th>1</th>\n",
       "      <td>Java para Web</td>\n",
       "      <td>58</td>\n",
       "    </tr>\n",
       "    <tr>\n",
       "      <th>2</th>\n",
       "      <td>C# para Web</td>\n",
       "      <td>54</td>\n",
       "    </tr>\n",
       "    <tr>\n",
       "      <th>4</th>\n",
       "      <td>Cursos de Python</td>\n",
       "      <td>71</td>\n",
       "    </tr>\n",
       "    <tr>\n",
       "      <th>14</th>\n",
       "      <td>Análise de dados</td>\n",
       "      <td>80</td>\n",
       "    </tr>\n",
       "    <tr>\n",
       "      <th>16</th>\n",
       "      <td>Internet das coisas</td>\n",
       "      <td>66</td>\n",
       "    </tr>\n",
       "    <tr>\n",
       "      <th>17</th>\n",
       "      <td>Programação funcional</td>\n",
       "      <td>67</td>\n",
       "    </tr>\n",
       "    <tr>\n",
       "      <th>18</th>\n",
       "      <td>Boas práticas em Java</td>\n",
       "      <td>54</td>\n",
       "    </tr>\n",
       "  </tbody>\n",
       "</table>\n",
       "</div>"
      ],
      "text/plain": [
       "            nome_do_curso  quantidade_alunos\n",
       "1           Java para Web                 58\n",
       "2             C# para Web                 54\n",
       "4        Cursos de Python                 71\n",
       "14       Análise de dados                 80\n",
       "16    Internet das coisas                 66\n",
       "17  Programação funcional                 67\n",
       "18  Boas práticas em Java                 54"
      ]
     },
     "execution_count": 49,
     "metadata": {},
     "output_type": "execute_result"
    }
   ],
   "source": [
    "cursos_com_mais_matriculas = alunos_por_cursos.query('quantidade_alunos > 50')\n",
    "cursos_com_mais_matriculas"
   ]
  },
  {
   "cell_type": "markdown",
   "metadata": {},
   "source": [
    "Também é possível usar essas novas querys para criar tabelas a parte"
   ]
  },
  {
   "cell_type": "code",
   "execution_count": 50,
   "metadata": {},
   "outputs": [],
   "source": [
    "cursos_com_mais_matriculas.to_sql('muitas_matriculas', con=engine)"
   ]
  },
  {
   "cell_type": "code",
   "execution_count": 51,
   "metadata": {},
   "outputs": [
    {
     "name": "stdout",
     "output_type": "stream",
     "text": [
      "['matriculas', 'muitas_matriculas']\n"
     ]
    }
   ],
   "source": [
    "print(engine.table_names())"
   ]
  },
  {
   "cell_type": "markdown",
   "metadata": {},
   "source": [
    "## Nomes dos alunos da próxima turma"
   ]
  },
  {
   "cell_type": "markdown",
   "metadata": {},
   "source": [
    "Revisando os Data Frames"
   ]
  },
  {
   "cell_type": "code",
   "execution_count": 52,
   "metadata": {},
   "outputs": [
    {
     "data": {
      "text/html": [
       "<div>\n",
       "<style scoped>\n",
       "    .dataframe tbody tr th:only-of-type {\n",
       "        vertical-align: middle;\n",
       "    }\n",
       "\n",
       "    .dataframe tbody tr th {\n",
       "        vertical-align: top;\n",
       "    }\n",
       "\n",
       "    .dataframe thead th {\n",
       "        text-align: right;\n",
       "    }\n",
       "</style>\n",
       "<table border=\"1\" class=\"dataframe\">\n",
       "  <thead>\n",
       "    <tr style=\"text-align: right;\">\n",
       "      <th></th>\n",
       "      <th>quantidade_alunos</th>\n",
       "      <th>nome_do_curso</th>\n",
       "    </tr>\n",
       "    <tr>\n",
       "      <th>id_curso</th>\n",
       "      <th></th>\n",
       "      <th></th>\n",
       "    </tr>\n",
       "  </thead>\n",
       "  <tbody>\n",
       "    <tr>\n",
       "      <th>1</th>\n",
       "      <td>40</td>\n",
       "      <td>Lógica de programação</td>\n",
       "    </tr>\n",
       "    <tr>\n",
       "      <th>2</th>\n",
       "      <td>58</td>\n",
       "      <td>Java para Web</td>\n",
       "    </tr>\n",
       "    <tr>\n",
       "      <th>3</th>\n",
       "      <td>54</td>\n",
       "      <td>C# para Web</td>\n",
       "    </tr>\n",
       "    <tr>\n",
       "      <th>4</th>\n",
       "      <td>39</td>\n",
       "      <td>Ruby on Rails</td>\n",
       "    </tr>\n",
       "    <tr>\n",
       "      <th>5</th>\n",
       "      <td>71</td>\n",
       "      <td>Cursos de Python</td>\n",
       "    </tr>\n",
       "    <tr>\n",
       "      <th>6</th>\n",
       "      <td>3</td>\n",
       "      <td>PHP com MySql</td>\n",
       "    </tr>\n",
       "    <tr>\n",
       "      <th>7</th>\n",
       "      <td>47</td>\n",
       "      <td>.NET para web</td>\n",
       "    </tr>\n",
       "    <tr>\n",
       "      <th>8</th>\n",
       "      <td>36</td>\n",
       "      <td>Novas integrações com Java</td>\n",
       "    </tr>\n",
       "    <tr>\n",
       "      <th>9</th>\n",
       "      <td>23</td>\n",
       "      <td>TDD com Java</td>\n",
       "    </tr>\n",
       "    <tr>\n",
       "      <th>10</th>\n",
       "      <td>9</td>\n",
       "      <td>Código limpo com C#</td>\n",
       "    </tr>\n",
       "    <tr>\n",
       "      <th>11</th>\n",
       "      <td>18</td>\n",
       "      <td>Preparatório para certificação Java</td>\n",
       "    </tr>\n",
       "    <tr>\n",
       "      <th>12</th>\n",
       "      <td>43</td>\n",
       "      <td>Hardware básico</td>\n",
       "    </tr>\n",
       "    <tr>\n",
       "      <th>13</th>\n",
       "      <td>18</td>\n",
       "      <td>Persistência com .NET</td>\n",
       "    </tr>\n",
       "    <tr>\n",
       "      <th>14</th>\n",
       "      <td>46</td>\n",
       "      <td>Desenvolvendo jogos</td>\n",
       "    </tr>\n",
       "    <tr>\n",
       "      <th>15</th>\n",
       "      <td>80</td>\n",
       "      <td>Análise de dados</td>\n",
       "    </tr>\n",
       "    <tr>\n",
       "      <th>16</th>\n",
       "      <td>13</td>\n",
       "      <td>Estatística básica</td>\n",
       "    </tr>\n",
       "    <tr>\n",
       "      <th>17</th>\n",
       "      <td>66</td>\n",
       "      <td>Internet das coisas</td>\n",
       "    </tr>\n",
       "    <tr>\n",
       "      <th>18</th>\n",
       "      <td>67</td>\n",
       "      <td>Programação funcional</td>\n",
       "    </tr>\n",
       "    <tr>\n",
       "      <th>19</th>\n",
       "      <td>54</td>\n",
       "      <td>Boas práticas em Java</td>\n",
       "    </tr>\n",
       "    <tr>\n",
       "      <th>20</th>\n",
       "      <td>2</td>\n",
       "      <td>Orientação objetos com Java</td>\n",
       "    </tr>\n",
       "  </tbody>\n",
       "</table>\n",
       "</div>"
      ],
      "text/plain": [
       "          quantidade_alunos                        nome_do_curso\n",
       "id_curso                                                        \n",
       "1                        40                Lógica de programação\n",
       "2                        58                        Java para Web\n",
       "3                        54                          C# para Web\n",
       "4                        39                        Ruby on Rails\n",
       "5                        71                     Cursos de Python\n",
       "6                         3                        PHP com MySql\n",
       "7                        47                        .NET para web\n",
       "8                        36           Novas integrações com Java\n",
       "9                        23                         TDD com Java\n",
       "10                        9                  Código limpo com C#\n",
       "11                       18  Preparatório para certificação Java\n",
       "12                       43                      Hardware básico\n",
       "13                       18                Persistência com .NET\n",
       "14                       46                  Desenvolvendo jogos\n",
       "15                       80                     Análise de dados\n",
       "16                       13                   Estatística básica\n",
       "17                       66                  Internet das coisas\n",
       "18                       67                Programação funcional\n",
       "19                       54                Boas práticas em Java\n",
       "20                        2          Orientação objetos com Java"
      ]
     },
     "execution_count": 52,
     "metadata": {},
     "output_type": "execute_result"
    }
   ],
   "source": [
    "matriculas_por_curso"
   ]
  },
  {
   "cell_type": "code",
   "execution_count": 53,
   "metadata": {},
   "outputs": [
    {
     "data": {
      "text/html": [
       "<div>\n",
       "<style scoped>\n",
       "    .dataframe tbody tr th:only-of-type {\n",
       "        vertical-align: middle;\n",
       "    }\n",
       "\n",
       "    .dataframe tbody tr th {\n",
       "        vertical-align: top;\n",
       "    }\n",
       "\n",
       "    .dataframe thead th {\n",
       "        text-align: right;\n",
       "    }\n",
       "</style>\n",
       "<table border=\"1\" class=\"dataframe\">\n",
       "  <thead>\n",
       "    <tr style=\"text-align: right;\">\n",
       "      <th></th>\n",
       "      <th>id_aluno</th>\n",
       "      <th>id_curso</th>\n",
       "    </tr>\n",
       "  </thead>\n",
       "  <tbody>\n",
       "    <tr>\n",
       "      <th>0</th>\n",
       "      <td>77</td>\n",
       "      <td>9</td>\n",
       "    </tr>\n",
       "    <tr>\n",
       "      <th>1</th>\n",
       "      <td>371</td>\n",
       "      <td>18</td>\n",
       "    </tr>\n",
       "    <tr>\n",
       "      <th>2</th>\n",
       "      <td>371</td>\n",
       "      <td>2</td>\n",
       "    </tr>\n",
       "    <tr>\n",
       "      <th>3</th>\n",
       "      <td>371</td>\n",
       "      <td>15</td>\n",
       "    </tr>\n",
       "    <tr>\n",
       "      <th>4</th>\n",
       "      <td>371</td>\n",
       "      <td>8</td>\n",
       "    </tr>\n",
       "    <tr>\n",
       "      <th>...</th>\n",
       "      <td>...</td>\n",
       "      <td>...</td>\n",
       "    </tr>\n",
       "    <tr>\n",
       "      <th>782</th>\n",
       "      <td>117</td>\n",
       "      <td>19</td>\n",
       "    </tr>\n",
       "    <tr>\n",
       "      <th>783</th>\n",
       "      <td>213</td>\n",
       "      <td>9</td>\n",
       "    </tr>\n",
       "    <tr>\n",
       "      <th>784</th>\n",
       "      <td>213</td>\n",
       "      <td>5</td>\n",
       "    </tr>\n",
       "    <tr>\n",
       "      <th>785</th>\n",
       "      <td>309</td>\n",
       "      <td>16</td>\n",
       "    </tr>\n",
       "    <tr>\n",
       "      <th>786</th>\n",
       "      <td>309</td>\n",
       "      <td>14</td>\n",
       "    </tr>\n",
       "  </tbody>\n",
       "</table>\n",
       "<p>787 rows × 2 columns</p>\n",
       "</div>"
      ],
      "text/plain": [
       "     id_aluno  id_curso\n",
       "0          77         9\n",
       "1         371        18\n",
       "2         371         2\n",
       "3         371        15\n",
       "4         371         8\n",
       "..        ...       ...\n",
       "782       117        19\n",
       "783       213         9\n",
       "784       213         5\n",
       "785       309        16\n",
       "786       309        14\n",
       "\n",
       "[787 rows x 2 columns]"
      ]
     },
     "execution_count": 53,
     "metadata": {},
     "output_type": "execute_result"
    }
   ],
   "source": [
    "matriculas"
   ]
  },
  {
   "cell_type": "markdown",
   "metadata": {},
   "source": [
    "Crio uma query que retorna os registros de somente um id de curso específico, usando como exemplo o curso de estatística"
   ]
  },
  {
   "cell_type": "code",
   "execution_count": 54,
   "metadata": {
    "scrolled": true
   },
   "outputs": [
    {
     "data": {
      "text/html": [
       "<div>\n",
       "<style scoped>\n",
       "    .dataframe tbody tr th:only-of-type {\n",
       "        vertical-align: middle;\n",
       "    }\n",
       "\n",
       "    .dataframe tbody tr th {\n",
       "        vertical-align: top;\n",
       "    }\n",
       "\n",
       "    .dataframe thead th {\n",
       "        text-align: right;\n",
       "    }\n",
       "</style>\n",
       "<table border=\"1\" class=\"dataframe\">\n",
       "  <thead>\n",
       "    <tr style=\"text-align: right;\">\n",
       "      <th></th>\n",
       "      <th>id_aluno</th>\n",
       "      <th>id_curso</th>\n",
       "    </tr>\n",
       "  </thead>\n",
       "  <tbody>\n",
       "    <tr>\n",
       "      <th>45</th>\n",
       "      <td>350</td>\n",
       "      <td>16</td>\n",
       "    </tr>\n",
       "    <tr>\n",
       "      <th>47</th>\n",
       "      <td>129</td>\n",
       "      <td>16</td>\n",
       "    </tr>\n",
       "    <tr>\n",
       "      <th>295</th>\n",
       "      <td>110</td>\n",
       "      <td>16</td>\n",
       "    </tr>\n",
       "    <tr>\n",
       "      <th>316</th>\n",
       "      <td>21</td>\n",
       "      <td>16</td>\n",
       "    </tr>\n",
       "    <tr>\n",
       "      <th>347</th>\n",
       "      <td>234</td>\n",
       "      <td>16</td>\n",
       "    </tr>\n",
       "    <tr>\n",
       "      <th>361</th>\n",
       "      <td>296</td>\n",
       "      <td>16</td>\n",
       "    </tr>\n",
       "    <tr>\n",
       "      <th>521</th>\n",
       "      <td>5</td>\n",
       "      <td>16</td>\n",
       "    </tr>\n",
       "    <tr>\n",
       "      <th>572</th>\n",
       "      <td>30</td>\n",
       "      <td>16</td>\n",
       "    </tr>\n",
       "    <tr>\n",
       "      <th>648</th>\n",
       "      <td>107</td>\n",
       "      <td>16</td>\n",
       "    </tr>\n",
       "    <tr>\n",
       "      <th>674</th>\n",
       "      <td>31</td>\n",
       "      <td>16</td>\n",
       "    </tr>\n",
       "    <tr>\n",
       "      <th>726</th>\n",
       "      <td>368</td>\n",
       "      <td>16</td>\n",
       "    </tr>\n",
       "    <tr>\n",
       "      <th>765</th>\n",
       "      <td>1</td>\n",
       "      <td>16</td>\n",
       "    </tr>\n",
       "    <tr>\n",
       "      <th>785</th>\n",
       "      <td>309</td>\n",
       "      <td>16</td>\n",
       "    </tr>\n",
       "  </tbody>\n",
       "</table>\n",
       "</div>"
      ],
      "text/plain": [
       "     id_aluno  id_curso\n",
       "45        350        16\n",
       "47        129        16\n",
       "295       110        16\n",
       "316        21        16\n",
       "347       234        16\n",
       "361       296        16\n",
       "521         5        16\n",
       "572        30        16\n",
       "648       107        16\n",
       "674        31        16\n",
       "726       368        16\n",
       "765         1        16\n",
       "785       309        16"
      ]
     },
     "execution_count": 54,
     "metadata": {},
     "output_type": "execute_result"
    }
   ],
   "source": [
    "proxima_turma_estatistica =  matriculas.query(\"id_curso == 16\")\n",
    "proxima_turma_estatistica"
   ]
  },
  {
   "cell_type": "markdown",
   "metadata": {},
   "source": [
    "Porém, ter um retorno de apenas os id's dos alunos não é adequado. Por isso faço uma junção da tabela matriculas com a tabela nomes.\n",
    "\n",
    "Como nas tabela 'matriculas' e 'nomes' temos duas colunas redundantes, index e id_aluno, também vou definir a id_aluno como index."
   ]
  },
  {
   "cell_type": "code",
   "execution_count": 55,
   "metadata": {},
   "outputs": [
    {
     "data": {
      "text/html": [
       "<div>\n",
       "<style scoped>\n",
       "    .dataframe tbody tr th:only-of-type {\n",
       "        vertical-align: middle;\n",
       "    }\n",
       "\n",
       "    .dataframe tbody tr th {\n",
       "        vertical-align: top;\n",
       "    }\n",
       "\n",
       "    .dataframe thead th {\n",
       "        text-align: right;\n",
       "    }\n",
       "</style>\n",
       "<table border=\"1\" class=\"dataframe\">\n",
       "  <thead>\n",
       "    <tr style=\"text-align: right;\">\n",
       "      <th></th>\n",
       "      <th>nome</th>\n",
       "      <th>id_aluno</th>\n",
       "      <th>email</th>\n",
       "      <th>matriculas_em_cursos</th>\n",
       "    </tr>\n",
       "  </thead>\n",
       "  <tbody>\n",
       "    <tr>\n",
       "      <th>0</th>\n",
       "      <td>MARIA</td>\n",
       "      <td>77</td>\n",
       "      <td>maria@aluno-platy.com.br</td>\n",
       "      <td>1</td>\n",
       "    </tr>\n",
       "    <tr>\n",
       "      <th>1</th>\n",
       "      <td>ANA</td>\n",
       "      <td>371</td>\n",
       "      <td>ana@aluno-platz.com.br</td>\n",
       "      <td>5</td>\n",
       "    </tr>\n",
       "    <tr>\n",
       "      <th>2</th>\n",
       "      <td>FRANCISCA</td>\n",
       "      <td>64</td>\n",
       "      <td>francisca@aluno-platz.com.br</td>\n",
       "      <td>1</td>\n",
       "    </tr>\n",
       "    <tr>\n",
       "      <th>3</th>\n",
       "      <td>ANTONIA</td>\n",
       "      <td>375</td>\n",
       "      <td>antonia@aluno-platz.com.br</td>\n",
       "      <td>1</td>\n",
       "    </tr>\n",
       "    <tr>\n",
       "      <th>4</th>\n",
       "      <td>ADRIANA</td>\n",
       "      <td>329</td>\n",
       "      <td>adriana@aluno-platx.com.br</td>\n",
       "      <td>2</td>\n",
       "    </tr>\n",
       "  </tbody>\n",
       "</table>\n",
       "</div>"
      ],
      "text/plain": [
       "        nome  id_aluno                         email  matriculas_em_cursos\n",
       "0      MARIA        77      maria@aluno-platy.com.br                     1\n",
       "1        ANA       371        ana@aluno-platz.com.br                     5\n",
       "2  FRANCISCA        64  francisca@aluno-platz.com.br                     1\n",
       "3    ANTONIA       375    antonia@aluno-platz.com.br                     1\n",
       "4    ADRIANA       329    adriana@aluno-platx.com.br                     2"
      ]
     },
     "execution_count": 55,
     "metadata": {},
     "output_type": "execute_result"
    }
   ],
   "source": [
    "nomes.head()"
   ]
  },
  {
   "cell_type": "code",
   "execution_count": 56,
   "metadata": {},
   "outputs": [
    {
     "data": {
      "text/html": [
       "<div>\n",
       "<style scoped>\n",
       "    .dataframe tbody tr th:only-of-type {\n",
       "        vertical-align: middle;\n",
       "    }\n",
       "\n",
       "    .dataframe tbody tr th {\n",
       "        vertical-align: top;\n",
       "    }\n",
       "\n",
       "    .dataframe thead th {\n",
       "        text-align: right;\n",
       "    }\n",
       "</style>\n",
       "<table border=\"1\" class=\"dataframe\">\n",
       "  <thead>\n",
       "    <tr style=\"text-align: right;\">\n",
       "      <th></th>\n",
       "      <th>nome</th>\n",
       "      <th>email</th>\n",
       "      <th>matriculas_em_cursos</th>\n",
       "    </tr>\n",
       "    <tr>\n",
       "      <th>id_aluno</th>\n",
       "      <th></th>\n",
       "      <th></th>\n",
       "      <th></th>\n",
       "    </tr>\n",
       "  </thead>\n",
       "  <tbody>\n",
       "    <tr>\n",
       "      <th>77</th>\n",
       "      <td>MARIA</td>\n",
       "      <td>maria@aluno-platy.com.br</td>\n",
       "      <td>1</td>\n",
       "    </tr>\n",
       "    <tr>\n",
       "      <th>371</th>\n",
       "      <td>ANA</td>\n",
       "      <td>ana@aluno-platz.com.br</td>\n",
       "      <td>5</td>\n",
       "    </tr>\n",
       "    <tr>\n",
       "      <th>64</th>\n",
       "      <td>FRANCISCA</td>\n",
       "      <td>francisca@aluno-platz.com.br</td>\n",
       "      <td>1</td>\n",
       "    </tr>\n",
       "    <tr>\n",
       "      <th>375</th>\n",
       "      <td>ANTONIA</td>\n",
       "      <td>antonia@aluno-platz.com.br</td>\n",
       "      <td>1</td>\n",
       "    </tr>\n",
       "    <tr>\n",
       "      <th>329</th>\n",
       "      <td>ADRIANA</td>\n",
       "      <td>adriana@aluno-platx.com.br</td>\n",
       "      <td>2</td>\n",
       "    </tr>\n",
       "  </tbody>\n",
       "</table>\n",
       "</div>"
      ],
      "text/plain": [
       "               nome                         email  matriculas_em_cursos\n",
       "id_aluno                                                               \n",
       "77            MARIA      maria@aluno-platy.com.br                     1\n",
       "371             ANA        ana@aluno-platz.com.br                     5\n",
       "64        FRANCISCA  francisca@aluno-platz.com.br                     1\n",
       "375         ANTONIA    antonia@aluno-platz.com.br                     1\n",
       "329         ADRIANA    adriana@aluno-platx.com.br                     2"
      ]
     },
     "execution_count": 56,
     "metadata": {},
     "output_type": "execute_result"
    }
   ],
   "source": [
    "nomes = nomes.set_index('id_aluno')\n",
    "nomes.head()"
   ]
  },
  {
   "cell_type": "code",
   "execution_count": 57,
   "metadata": {},
   "outputs": [
    {
     "data": {
      "text/html": [
       "<div>\n",
       "<style scoped>\n",
       "    .dataframe tbody tr th:only-of-type {\n",
       "        vertical-align: middle;\n",
       "    }\n",
       "\n",
       "    .dataframe tbody tr th {\n",
       "        vertical-align: top;\n",
       "    }\n",
       "\n",
       "    .dataframe thead th {\n",
       "        text-align: right;\n",
       "    }\n",
       "</style>\n",
       "<table border=\"1\" class=\"dataframe\">\n",
       "  <thead>\n",
       "    <tr style=\"text-align: right;\">\n",
       "      <th></th>\n",
       "      <th>id_curso</th>\n",
       "      <th>nome</th>\n",
       "      <th>email</th>\n",
       "    </tr>\n",
       "    <tr>\n",
       "      <th>id_aluno</th>\n",
       "      <th></th>\n",
       "      <th></th>\n",
       "      <th></th>\n",
       "    </tr>\n",
       "  </thead>\n",
       "  <tbody>\n",
       "    <tr>\n",
       "      <th>350</th>\n",
       "      <td>16</td>\n",
       "      <td>MARIANA</td>\n",
       "      <td>mariana@aluno-platx.com.br</td>\n",
       "    </tr>\n",
       "    <tr>\n",
       "      <th>129</th>\n",
       "      <td>16</td>\n",
       "      <td>GABRIELA</td>\n",
       "      <td>gabriela@aluno-platx.com.br</td>\n",
       "    </tr>\n",
       "    <tr>\n",
       "      <th>110</th>\n",
       "      <td>16</td>\n",
       "      <td>LORENA</td>\n",
       "      <td>lorena@aluno-platz.com.br</td>\n",
       "    </tr>\n",
       "    <tr>\n",
       "      <th>21</th>\n",
       "      <td>16</td>\n",
       "      <td>CONCEICAO</td>\n",
       "      <td>conceicao@aluno-platz.com.br</td>\n",
       "    </tr>\n",
       "    <tr>\n",
       "      <th>234</th>\n",
       "      <td>16</td>\n",
       "      <td>REBECA</td>\n",
       "      <td>rebeca@aluno-platz.com.br</td>\n",
       "    </tr>\n",
       "    <tr>\n",
       "      <th>296</th>\n",
       "      <td>16</td>\n",
       "      <td>IRACEMA</td>\n",
       "      <td>iracema@aluno-platx.com.br</td>\n",
       "    </tr>\n",
       "    <tr>\n",
       "      <th>5</th>\n",
       "      <td>16</td>\n",
       "      <td>MIGUEL</td>\n",
       "      <td>miguel@aluno-platx.com.br</td>\n",
       "    </tr>\n",
       "    <tr>\n",
       "      <th>30</th>\n",
       "      <td>16</td>\n",
       "      <td>FABRICIO</td>\n",
       "      <td>fabricio@aluno-platx.com.br</td>\n",
       "    </tr>\n",
       "    <tr>\n",
       "      <th>107</th>\n",
       "      <td>16</td>\n",
       "      <td>EVANDRO</td>\n",
       "      <td>evandro@aluno-platy.com.br</td>\n",
       "    </tr>\n",
       "    <tr>\n",
       "      <th>31</th>\n",
       "      <td>16</td>\n",
       "      <td>OSMAR</td>\n",
       "      <td>osmar@aluno-platx.com.br</td>\n",
       "    </tr>\n",
       "    <tr>\n",
       "      <th>368</th>\n",
       "      <td>16</td>\n",
       "      <td>CRISTIAN</td>\n",
       "      <td>cristian@aluno-platy.com.br</td>\n",
       "    </tr>\n",
       "    <tr>\n",
       "      <th>1</th>\n",
       "      <td>16</td>\n",
       "      <td>WESLEI</td>\n",
       "      <td>weslei@aluno-platz.com.br</td>\n",
       "    </tr>\n",
       "    <tr>\n",
       "      <th>309</th>\n",
       "      <td>16</td>\n",
       "      <td>GEOVANE</td>\n",
       "      <td>geovane@aluno-platy.com.br</td>\n",
       "    </tr>\n",
       "  </tbody>\n",
       "</table>\n",
       "</div>"
      ],
      "text/plain": [
       "          id_curso       nome                         email\n",
       "id_aluno                                                   \n",
       "350             16    MARIANA    mariana@aluno-platx.com.br\n",
       "129             16   GABRIELA   gabriela@aluno-platx.com.br\n",
       "110             16     LORENA     lorena@aluno-platz.com.br\n",
       "21              16  CONCEICAO  conceicao@aluno-platz.com.br\n",
       "234             16     REBECA     rebeca@aluno-platz.com.br\n",
       "296             16    IRACEMA    iracema@aluno-platx.com.br\n",
       "5               16     MIGUEL     miguel@aluno-platx.com.br\n",
       "30              16   FABRICIO   fabricio@aluno-platx.com.br\n",
       "107             16    EVANDRO    evandro@aluno-platy.com.br\n",
       "31              16      OSMAR      osmar@aluno-platx.com.br\n",
       "368             16   CRISTIAN   cristian@aluno-platy.com.br\n",
       "1               16     WESLEI     weslei@aluno-platz.com.br\n",
       "309             16    GEOVANE    geovane@aluno-platy.com.br"
      ]
     },
     "execution_count": 57,
     "metadata": {},
     "output_type": "execute_result"
    }
   ],
   "source": [
    "proxima_turma_estatistica = proxima_turma_estatistica.set_index('id_aluno').join(nomes[['nome', 'email']])\n",
    "proxima_turma_estatistica"
   ]
  },
  {
   "cell_type": "markdown",
   "metadata": {},
   "source": [
    "Renomeando a coluna"
   ]
  },
  {
   "cell_type": "code",
   "execution_count": 63,
   "metadata": {},
   "outputs": [
    {
     "data": {
      "text/html": [
       "<div>\n",
       "<style scoped>\n",
       "    .dataframe tbody tr th:only-of-type {\n",
       "        vertical-align: middle;\n",
       "    }\n",
       "\n",
       "    .dataframe tbody tr th {\n",
       "        vertical-align: top;\n",
       "    }\n",
       "\n",
       "    .dataframe thead th {\n",
       "        text-align: right;\n",
       "    }\n",
       "</style>\n",
       "<table border=\"1\" class=\"dataframe\">\n",
       "  <thead>\n",
       "    <tr style=\"text-align: right;\">\n",
       "      <th></th>\n",
       "      <th>id_curso</th>\n",
       "      <th>alunos_estatística_básica</th>\n",
       "      <th>email</th>\n",
       "    </tr>\n",
       "    <tr>\n",
       "      <th>id_aluno</th>\n",
       "      <th></th>\n",
       "      <th></th>\n",
       "      <th></th>\n",
       "    </tr>\n",
       "  </thead>\n",
       "  <tbody>\n",
       "    <tr>\n",
       "      <th>350</th>\n",
       "      <td>16</td>\n",
       "      <td>MARIANA</td>\n",
       "      <td>mariana@aluno-platx.com.br</td>\n",
       "    </tr>\n",
       "    <tr>\n",
       "      <th>129</th>\n",
       "      <td>16</td>\n",
       "      <td>GABRIELA</td>\n",
       "      <td>gabriela@aluno-platx.com.br</td>\n",
       "    </tr>\n",
       "    <tr>\n",
       "      <th>110</th>\n",
       "      <td>16</td>\n",
       "      <td>LORENA</td>\n",
       "      <td>lorena@aluno-platz.com.br</td>\n",
       "    </tr>\n",
       "    <tr>\n",
       "      <th>21</th>\n",
       "      <td>16</td>\n",
       "      <td>CONCEICAO</td>\n",
       "      <td>conceicao@aluno-platz.com.br</td>\n",
       "    </tr>\n",
       "    <tr>\n",
       "      <th>234</th>\n",
       "      <td>16</td>\n",
       "      <td>REBECA</td>\n",
       "      <td>rebeca@aluno-platz.com.br</td>\n",
       "    </tr>\n",
       "    <tr>\n",
       "      <th>296</th>\n",
       "      <td>16</td>\n",
       "      <td>IRACEMA</td>\n",
       "      <td>iracema@aluno-platx.com.br</td>\n",
       "    </tr>\n",
       "    <tr>\n",
       "      <th>5</th>\n",
       "      <td>16</td>\n",
       "      <td>MIGUEL</td>\n",
       "      <td>miguel@aluno-platx.com.br</td>\n",
       "    </tr>\n",
       "    <tr>\n",
       "      <th>30</th>\n",
       "      <td>16</td>\n",
       "      <td>FABRICIO</td>\n",
       "      <td>fabricio@aluno-platx.com.br</td>\n",
       "    </tr>\n",
       "    <tr>\n",
       "      <th>107</th>\n",
       "      <td>16</td>\n",
       "      <td>EVANDRO</td>\n",
       "      <td>evandro@aluno-platy.com.br</td>\n",
       "    </tr>\n",
       "    <tr>\n",
       "      <th>31</th>\n",
       "      <td>16</td>\n",
       "      <td>OSMAR</td>\n",
       "      <td>osmar@aluno-platx.com.br</td>\n",
       "    </tr>\n",
       "    <tr>\n",
       "      <th>368</th>\n",
       "      <td>16</td>\n",
       "      <td>CRISTIAN</td>\n",
       "      <td>cristian@aluno-platy.com.br</td>\n",
       "    </tr>\n",
       "    <tr>\n",
       "      <th>1</th>\n",
       "      <td>16</td>\n",
       "      <td>WESLEI</td>\n",
       "      <td>weslei@aluno-platz.com.br</td>\n",
       "    </tr>\n",
       "    <tr>\n",
       "      <th>309</th>\n",
       "      <td>16</td>\n",
       "      <td>GEOVANE</td>\n",
       "      <td>geovane@aluno-platy.com.br</td>\n",
       "    </tr>\n",
       "  </tbody>\n",
       "</table>\n",
       "</div>"
      ],
      "text/plain": [
       "          id_curso alunos_estatística_básica                         email\n",
       "id_aluno                                                                  \n",
       "350             16                   MARIANA    mariana@aluno-platx.com.br\n",
       "129             16                  GABRIELA   gabriela@aluno-platx.com.br\n",
       "110             16                    LORENA     lorena@aluno-platz.com.br\n",
       "21              16                 CONCEICAO  conceicao@aluno-platz.com.br\n",
       "234             16                    REBECA     rebeca@aluno-platz.com.br\n",
       "296             16                   IRACEMA    iracema@aluno-platx.com.br\n",
       "5               16                    MIGUEL     miguel@aluno-platx.com.br\n",
       "30              16                  FABRICIO   fabricio@aluno-platx.com.br\n",
       "107             16                   EVANDRO    evandro@aluno-platy.com.br\n",
       "31              16                     OSMAR      osmar@aluno-platx.com.br\n",
       "368             16                  CRISTIAN   cristian@aluno-platy.com.br\n",
       "1               16                    WESLEI     weslei@aluno-platz.com.br\n",
       "309             16                   GEOVANE    geovane@aluno-platy.com.br"
      ]
     },
     "execution_count": 63,
     "metadata": {},
     "output_type": "execute_result"
    }
   ],
   "source": [
    "proxima_turma_estatistica = proxima_turma_estatistica.rename(columns={'nome':'alunos_estatística_básica'})\n",
    "proxima_turma_estatistica"
   ]
  },
  {
   "cell_type": "markdown",
   "metadata": {},
   "source": [
    "## Exportando para Excel\n"
   ]
  },
  {
   "cell_type": "code",
   "execution_count": 64,
   "metadata": {},
   "outputs": [],
   "source": [
    "proxima_turma_estatistica.to_excel('proxima_turma.xlsx', index = False)"
   ]
  }
 ],
 "metadata": {
  "kernelspec": {
   "display_name": "Python 3",
   "language": "python",
   "name": "python3"
  },
  "language_info": {
   "codemirror_mode": {
    "name": "ipython",
    "version": 3
   },
   "file_extension": ".py",
   "mimetype": "text/x-python",
   "name": "python",
   "nbconvert_exporter": "python",
   "pygments_lexer": "ipython3",
   "version": "3.7.6"
  }
 },
 "nbformat": 4,
 "nbformat_minor": 4
}
